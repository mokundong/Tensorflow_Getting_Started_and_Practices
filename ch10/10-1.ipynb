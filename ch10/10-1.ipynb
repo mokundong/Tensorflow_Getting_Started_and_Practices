{
 "cells": [
  {
   "cell_type": "code",
   "execution_count": 3,
   "metadata": {},
   "outputs": [],
   "source": [
    "import tensorflow as tf\n",
    "import numpy as np\n",
    "import matplotlib.pyplot as plt"
   ]
  },
  {
   "cell_type": "code",
   "execution_count": 4,
   "metadata": {},
   "outputs": [
    {
     "name": "stderr",
     "output_type": "stream",
     "text": [
      "c:\\anaconda\\lib\\site-packages\\h5py\\__init__.py:34: FutureWarning: Conversion of the second argument of issubdtype from `float` to `np.floating` is deprecated. In future, it will be treated as `np.float64 == np.dtype(float).type`.\n",
      "  from ._conv import register_converters as _register_converters\n"
     ]
    },
    {
     "name": "stdout",
     "output_type": "stream",
     "text": [
      "Extracting /data/train-images-idx3-ubyte.gz\n",
      "Extracting /data/train-labels-idx1-ubyte.gz\n",
      "Extracting /data/t10k-images-idx3-ubyte.gz\n",
      "Extracting /data/t10k-labels-idx1-ubyte.gz\n"
     ]
    }
   ],
   "source": [
    "from tensorflow.examples.tutorials.mnist import input_data\n",
    "mnist = input_data.read_data_sets(\"/data/\",one_hot=True)"
   ]
  },
  {
   "cell_type": "code",
   "execution_count": 5,
   "metadata": {},
   "outputs": [],
   "source": [
    "learning_rate = 0.01\n",
    "n_hidden_1 = 256\n",
    "n_hidden_2 = 128\n",
    "n_input = 784\n",
    "#占位符\n",
    "x = tf.placeholder(\"float\",[None,n_input])\n",
    "y = x\n",
    "#学习参数\n",
    "weights = {'encoder_h1': tf.Variable(tf.random_normal([n_input,n_hidden_1])),\n",
    "           'encoder_h2': tf.Variable(tf.random_normal([n_hidden_1,n_hidden_2])),\n",
    "           'decoder_h1': tf.Variable(tf.random_normal([n_hidden_2,n_hidden_1])),\n",
    "           'decoder_h2': tf.Variable(tf.random_normal([n_hidden_1,n_input]))\n",
    "          }\n",
    "\n",
    "biases = {'encoder_b1': tf.Variable(tf.zeros([n_hidden_1])),\n",
    "          'encoder_b2': tf.Variable(tf.zeros([n_hidden_2])),\n",
    "          'decoder_b1': tf.Variable(tf.zeros([n_hidden_1])),\n",
    "          'decoder_b2': tf.Variable(tf.zeros([n_input]))\n",
    "         }\n",
    "\n",
    "#编码\n",
    "def encoder(x):\n",
    "    layer_1 = tf.nn.sigmoid(tf.add(tf.matmul(x,weights['encoder_h1']),biases['encoder_b1']))\n",
    "    layer_2 = tf.nn.sigmoid(tf.add(tf.matmul(layer_1,weights['encoder_h2']),biases['encoder_b2']))\n",
    "    return layer_2\n",
    "\n",
    "#解码\n",
    "def decoder(x):\n",
    "    layer_1 = tf.nn.sigmoid(tf.add(tf.matmul(x,weights['decoder_h1']),biases['decoder_b1']))\n",
    "    layer_2 = tf.nn.sigmoid(tf.add(tf.matmul(layer_1,weights['decoder_h2']),biases['decoder_b2']))\n",
    "    return layer_2\n",
    "\n",
    "#输出节点\n",
    "encoder_out = encoder(x)\n",
    "pred = decoder(encoder_out)\n",
    "#cost为y与pred的平方差\n",
    "cost = tf.reduce_mean(tf.pow(y - pred, 2))\n",
    "optimizer = tf.train.RMSPropOptimizer(learning_rate).minimize(cost)\n"
   ]
  },
  {
   "cell_type": "code",
   "execution_count": 6,
   "metadata": {},
   "outputs": [
    {
     "name": "stdout",
     "output_type": "stream",
     "text": [
      "Epoch: 0001 cost= 0.205153167\n",
      "Epoch: 0006 cost= 0.126584485\n",
      "Epoch: 0011 cost= 0.114442326\n",
      "Epoch: 0016 cost= 0.102075420\n",
      "完成!\n",
      "Accuracy: 1.0\n"
     ]
    },
    {
     "data": {
      "image/png": "[encoded data removed]",
      "text/plain": [
       "<matplotlib.figure.Figure at 0x2c89f8de550>"
      ]
     },
     "metadata": {},
     "output_type": "display_data"
    }
   ],
   "source": [
    "# 训练参数\n",
    "training_epochs = 20  #一共迭代20次\n",
    "batch_size = 256     #每次取256个样本\n",
    "display_step = 5     #迭代5次输出一次信息\n",
    "# 启动绘话\n",
    "with tf.Session() as sess:\n",
    "    sess.run(tf.global_variables_initializer())\n",
    "    \n",
    "    \n",
    "    total_batch = int(mnist.train.num_examples/batch_size)\n",
    "    # 开始训练\n",
    "    for epoch in range(training_epochs):#迭代\n",
    "        \n",
    "        for i in range(total_batch):\n",
    "            batch_xs, batch_ys = mnist.train.next_batch(batch_size)#取数据\n",
    "            _, c = sess.run([optimizer, cost], feed_dict={x: batch_xs})# 训练模型\n",
    "        if epoch % display_step == 0:# 现实日志信息\n",
    "            print(\"Epoch:\", '%04d' % (epoch+1),\"cost=\", \"{:.9f}\".format(c))\n",
    "\n",
    "    print(\"完成!\")\n",
    "    \n",
    "    # 测试\n",
    "    correct_prediction = tf.equal(tf.argmax(pred, 1), tf.argmax(y, 1))\n",
    "    # 计算错误率\n",
    "    accuracy = tf.reduce_mean(tf.cast(correct_prediction, \"float\"))\n",
    "    print (\"Accuracy:\", 1-accuracy.eval({x: mnist.test.images, y: mnist.test.images}))\n",
    "    \n",
    "    #可视化\n",
    "    show_num = 10\n",
    "    reconstruction = sess.run(pred,feed_dict={x:mnist.test.images[:show_num]})\n",
    "    f,a = plt.subplots(2,10,figsize=(10,2))\n",
    "    for i in range(show_num):\n",
    "        a[0][i].imshow(np.reshape(mnist.test.images[i],(28,28)))\n",
    "        a[1][i].imshow(np.reshape(reconstruction[i],(28,28)))\n",
    "    plt.draw()\n",
    "    plt.show()"
   ]
  },
  {
   "cell_type": "code",
   "execution_count": null,
   "metadata": {},
   "outputs": [],
   "source": []
  },
  {
   "cell_type": "code",
   "execution_count": null,
   "metadata": {},
   "outputs": [],
   "source": []
  }
 ],
 "metadata": {
  "kernelspec": {
   "display_name": "Python [default]",
   "language": "python",
   "name": "python3"
  },
  "language_info": {
   "codemirror_mode": {
    "name": "ipython",
    "version": 3
   },
   "file_extension": ".py",
   "mimetype": "text/x-python",
   "name": "python",
   "nbconvert_exporter": "python",
   "pygments_lexer": "ipython3",
   "version": "3.5.2"
  }
 },
 "nbformat": 4,
 "nbformat_minor": 2
}
