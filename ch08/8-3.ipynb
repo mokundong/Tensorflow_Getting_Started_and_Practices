{
 "cells": [
  {
   "cell_type": "code",
   "execution_count": 2,
   "metadata": {},
   "outputs": [],
   "source": [
    "import tensorflow as tf\n",
    "img = tf.constant([\n",
    "    [[0.0,4.0],[0.0,4.0],[0.0,4.0],[0.0,4.0]],\n",
    "    [[1.0,5.0],[1.0,5.0],[1.0,5.0],[1.0,5.0]],\n",
    "    [[2.0,6.0],[2.0,6.0],[2.0,6.0],[2.0,6.0]],\n",
    "    [[3.0,7.0],[3.0,7.0],[3.0,7.0],[3.0,7.0]]\n",
    "])\n",
    "img = tf.reshape(img,[1,4,4,2])"
   ]
  },
  {
   "cell_type": "code",
   "execution_count": 3,
   "metadata": {},
   "outputs": [],
   "source": [
    "pooling=tf.nn.max_pool(img,[1,2,2,1],[1,2,2,1],padding='VALID')  \n",
    "pooling1=tf.nn.max_pool(img,[1,2,2,1],[1,1,1,1],padding='VALID')\n",
    "pooling2=tf.nn.avg_pool(img,[1,4,4,1],[1,1,1,1],padding='SAME')  \n",
    "pooling3=tf.nn.avg_pool(img,[1,4,4,1],[1,4,4,1],padding='SAME') \n",
    "nt_hpool2_flat = tf.reshape(tf.transpose(img), [-1, 16]) \n",
    "pooling4=tf.reduce_mean(nt_hpool2_flat,1) #1对行求均值（1表示轴是列）   0 对列求均值"
   ]
  },
  {
   "cell_type": "code",
   "execution_count": 4,
   "metadata": {},
   "outputs": [
    {
     "name": "stdout",
     "output_type": "stream",
     "text": [
      "image:\n",
      "[[[[0. 4.]\n",
      "   [0. 4.]\n",
      "   [0. 4.]\n",
      "   [0. 4.]]\n",
      "\n",
      "  [[1. 5.]\n",
      "   [1. 5.]\n",
      "   [1. 5.]\n",
      "   [1. 5.]]\n",
      "\n",
      "  [[2. 6.]\n",
      "   [2. 6.]\n",
      "   [2. 6.]\n",
      "   [2. 6.]]\n",
      "\n",
      "  [[3. 7.]\n",
      "   [3. 7.]\n",
      "   [3. 7.]\n",
      "   [3. 7.]]]]\n",
      "reslut:\n",
      " [[[[1. 5.]\n",
      "   [1. 5.]]\n",
      "\n",
      "  [[3. 7.]\n",
      "   [3. 7.]]]]\n",
      "reslut1:\n",
      " [[[[1. 5.]\n",
      "   [1. 5.]\n",
      "   [1. 5.]]\n",
      "\n",
      "  [[2. 6.]\n",
      "   [2. 6.]\n",
      "   [2. 6.]]\n",
      "\n",
      "  [[3. 7.]\n",
      "   [3. 7.]\n",
      "   [3. 7.]]]]\n",
      "reslut2:\n",
      " [[[[1.  5. ]\n",
      "   [1.  5. ]\n",
      "   [1.  5. ]\n",
      "   [1.  5. ]]\n",
      "\n",
      "  [[1.5 5.5]\n",
      "   [1.5 5.5]\n",
      "   [1.5 5.5]\n",
      "   [1.5 5.5]]\n",
      "\n",
      "  [[2.  6. ]\n",
      "   [2.  6. ]\n",
      "   [2.  6. ]\n",
      "   [2.  6. ]]\n",
      "\n",
      "  [[2.5 6.5]\n",
      "   [2.5 6.5]\n",
      "   [2.5 6.5]\n",
      "   [2.5 6.5]]]]\n",
      "reslut3:\n",
      " [[[[1.5 5.5]]]]\n",
      "reslut4:\n",
      " [1.5 5.5]\n",
      "flat:\n",
      " [[0. 1. 2. 3. 0. 1. 2. 3. 0. 1. 2. 3. 0. 1. 2. 3.]\n",
      " [4. 5. 6. 7. 4. 5. 6. 7. 4. 5. 6. 7. 4. 5. 6. 7.]]\n"
     ]
    }
   ],
   "source": [
    "with tf.Session() as sess:  \n",
    "    print(\"image:\")  \n",
    "    image=sess.run(img)  \n",
    "    print (image)  \n",
    "    result=sess.run(pooling)  \n",
    "    print (\"reslut:\\n\",result)  \n",
    "    result=sess.run(pooling1)  \n",
    "    print (\"reslut1:\\n\",result)     \n",
    "    result=sess.run(pooling2)  \n",
    "    print (\"reslut2:\\n\",result)\n",
    "    result=sess.run(pooling3)  \n",
    "    print (\"reslut3:\\n\",result) \n",
    "    flat,result=sess.run([nt_hpool2_flat,pooling4])  \n",
    "    print (\"reslut4:\\n\",result) \n",
    "    print(\"flat:\\n\",flat)   "
   ]
  },
  {
   "cell_type": "code",
   "execution_count": 5,
   "metadata": {},
   "outputs": [
    {
     "name": "stdout",
     "output_type": "stream",
     "text": [
      "result:\t [4. 6.]\n"
     ]
    }
   ],
   "source": []
  },
  {
   "cell_type": "code",
   "execution_count": null,
   "metadata": {},
   "outputs": [],
   "source": []
  }
 ],
 "metadata": {
  "kernelspec": {
   "display_name": "Python [default]",
   "language": "python",
   "name": "python3"
  },
  "language_info": {
   "codemirror_mode": {
    "name": "ipython",
    "version": 3
   },
   "file_extension": ".py",
   "mimetype": "text/x-python",
   "name": "python",
   "nbconvert_exporter": "python",
   "pygments_lexer": "ipython3",
   "version": "3.5.2"
  }
 },
 "nbformat": 4,
 "nbformat_minor": 2
}
