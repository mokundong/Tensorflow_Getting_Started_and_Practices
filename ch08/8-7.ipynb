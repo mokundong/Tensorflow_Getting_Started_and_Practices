{
 "cells": [
  {
   "cell_type": "code",
   "execution_count": 1,
   "metadata": {},
   "outputs": [],
   "source": [
    "import tensorflow as tf"
   ]
  },
  {
   "cell_type": "code",
   "execution_count": 6,
   "metadata": {},
   "outputs": [
    {
     "name": "stdout",
     "output_type": "stream",
     "text": [
      "-------------------------\n",
      "891.0\n",
      "-------------------------\n",
      "896.0\n",
      "-------------------------\n",
      "902.0\n",
      "-------------------------\n",
      "908.0\n",
      "-------------------------\n",
      "913.0\n",
      "-------------------------\n",
      "922.0\n",
      "-------------------------\n",
      "1044.0\n",
      "-------------------------\n",
      "1051.0\n",
      "-------------------------\n",
      "1058.0\n",
      "-------------------------\n",
      "1063.0\n"
     ]
    }
   ],
   "source": [
    "#创建长度为100的队列  \n",
    "queue = tf.FIFOQueue(100,\"float\")  \n",
    "\n",
    "c = tf.Variable(0.0)  #计数器  \n",
    "#加1操作 \n",
    "op = tf.assign_add(c,tf.constant(1.0))  \n",
    "#操作:将计数器的结果加入队列  \n",
    "enqueue_op = queue.enqueue(c)  \n",
    "  \n",
    "#创建一个队列管理器QueueRunner，用这两个操作向q中添加元素。目前我们只使用一个线程:  \n",
    "qr = tf.train.QueueRunner(queue,enqueue_ops=[op,enqueue_op]) \n",
    "\n",
    "with tf.Session() as sess:  \n",
    "    sess.run(tf.global_variables_initializer())  \n",
    "       \n",
    "    coord = tf.train.Coordinator()  \n",
    "      \n",
    "    ## 启动入队线程, Coordinator是线程的参数  \n",
    "    enqueue_threads = qr.create_threads(sess, coord = coord,start=True)  # 启动入队线程  \n",
    "      \n",
    "    # 主线程  \n",
    "    for i in range(0, 10):  \n",
    "        print (\"-------------------------\")  \n",
    "        print(sess.run(queue.dequeue()))  \n",
    "      \n",
    "     \n",
    "    coord.request_stop()  #通知其他线程关闭 其他所有线程关闭之后，这一函数才能返回  \n",
    "\n",
    "\n",
    "    #join操作经常用在线程当中,其作用是等待某线程结束  \n",
    "    #coord.join(enqueue_threads) "
   ]
  },
  {
   "cell_type": "code",
   "execution_count": null,
   "metadata": {},
   "outputs": [],
   "source": []
  }
 ],
 "metadata": {
  "kernelspec": {
   "display_name": "Python [default]",
   "language": "python",
   "name": "python3"
  },
  "language_info": {
   "codemirror_mode": {
    "name": "ipython",
    "version": 3
   },
   "file_extension": ".py",
   "mimetype": "text/x-python",
   "name": "python",
   "nbconvert_exporter": "python",
   "pygments_lexer": "ipython3",
   "version": "3.5.2"
  }
 },
 "nbformat": 4,
 "nbformat_minor": 2
}
