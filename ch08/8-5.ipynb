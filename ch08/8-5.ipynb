{
 "cells": [
  {
   "cell_type": "code",
   "execution_count": 1,
   "metadata": {},
   "outputs": [],
   "source": [
    "import cifar10_input\n",
    "import tensorflow as tf\n",
    "import pylab"
   ]
  },
  {
   "cell_type": "code",
   "execution_count": 2,
   "metadata": {},
   "outputs": [],
   "source": [
    "#获取数据\n",
    "batch_size = 128\n",
    "data_dir = 'cifar-10-batches-bin'\n",
    "images_test,labels_test = cifar10_input.inputs(eval_data=True,data_dir=data_dir,batch_size=batch_size)"
   ]
  },
  {
   "cell_type": "code",
   "execution_count": 3,
   "metadata": {},
   "outputs": [
    {
     "name": "stdout",
     "output_type": "stream",
     "text": [
      "__\n",
      " [[[ 1.0754309   1.0754309   1.0754309 ]\n",
      "  [ 1.0754309   1.0754309   1.0754309 ]\n",
      "  [ 1.0754309   1.0754309   1.0754309 ]\n",
      "  ...\n",
      "  [ 1.0754309   1.0754309   1.0754309 ]\n",
      "  [ 1.0754309   1.0754309   1.0754309 ]\n",
      "  [ 1.0754309   1.0754309   1.0754309 ]]\n",
      "\n",
      " [[ 1.088781    1.0754309   1.0754309 ]\n",
      "  [ 1.088781    1.0754309   1.0754309 ]\n",
      "  [ 1.0754309   1.088781    1.0754309 ]\n",
      "  ...\n",
      "  [ 1.088781    1.088781    1.0754309 ]\n",
      "  [ 1.088781    1.088781    1.0754309 ]\n",
      "  [ 1.088781    1.088781    1.0754309 ]]\n",
      "\n",
      " [[ 1.0620806   1.0353804   1.0487305 ]\n",
      "  [ 1.1021312   1.088781    1.088781  ]\n",
      "  [ 1.1021312   1.1021312   1.0754309 ]\n",
      "  ...\n",
      "  [ 1.088781    1.1021312   1.0620806 ]\n",
      "  [ 1.0754309   1.088781    1.0487305 ]\n",
      "  [ 1.0754309   1.0754309   1.0754309 ]]\n",
      "\n",
      " ...\n",
      "\n",
      " [[-1.9016584  -1.9817594  -1.9684093 ]\n",
      "  [-1.6613551  -1.9016584  -1.8349075 ]\n",
      "  [-1.6346549  -1.9016584  -1.8349075 ]\n",
      "  ...\n",
      "  [-0.6734422  -0.82029414 -0.887045  ]\n",
      "  [-0.43313903 -0.48653972 -0.5532906 ]\n",
      "  [-0.3396878  -0.29963726 -0.3797383 ]]\n",
      "\n",
      " [[-2.0084598  -2.0485103  -2.0618606 ]\n",
      "  [-1.9016584  -2.03516    -1.9951096 ]\n",
      "  [-1.8215573  -2.02181    -1.9417089 ]\n",
      "  ...\n",
      "  [-0.3930885  -0.3797383  -0.5132401 ]\n",
      "  [-0.3930885  -0.35303795 -0.45983937]\n",
      "  [-0.3396878  -0.25958672 -0.35303795]]\n",
      "\n",
      " [[-2.03516    -2.0618606  -2.0618606 ]\n",
      "  [-1.9951096  -2.0485103  -2.03516   ]\n",
      "  [-1.9684093  -2.0485103  -1.9951096 ]\n",
      "  ...\n",
      "  [-0.43313903 -0.3797383  -0.5265902 ]\n",
      "  [-0.44648919 -0.36638814 -0.48653972]\n",
      "  [-0.29963726 -0.20618603 -0.31298745]]]\n",
      "__\n",
      " 8\n"
     ]
    },
    {
     "data": {
      "image/png": "[encoded data removed]",
      "text/plain": [
       "<matplotlib.figure.Figure at 0x1387bf6b748>"
      ]
     },
     "metadata": {},
     "output_type": "display_data"
    }
   ],
   "source": [
    "sess = tf.Session()\n",
    "tf.global_variables_initializer().run(session=sess)\n",
    "tf.train.start_queue_runners(sess=sess)\n",
    "image_batch, label_batch = sess.run([images_test, labels_test])\n",
    "print(\"__\\n\",image_batch[0])\n",
    "print(\"__\\n\",label_batch[0])\n",
    "pylab.imshow(image_batch[0])\n",
    "pylab.show()"
   ]
  },
  {
   "cell_type": "code",
   "execution_count": null,
   "metadata": {},
   "outputs": [],
   "source": []
  }
 ],
 "metadata": {
  "kernelspec": {
   "display_name": "Python [default]",
   "language": "python",
   "name": "python3"
  },
  "language_info": {
   "codemirror_mode": {
    "name": "ipython",
    "version": 3
   },
   "file_extension": ".py",
   "mimetype": "text/x-python",
   "name": "python",
   "nbconvert_exporter": "python",
   "pygments_lexer": "ipython3",
   "version": "3.5.2"
  }
 },
 "nbformat": 4,
 "nbformat_minor": 2
}
