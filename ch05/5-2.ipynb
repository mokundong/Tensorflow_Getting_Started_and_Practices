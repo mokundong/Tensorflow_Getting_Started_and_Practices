{
 "cells": [
  {
   "cell_type": "markdown",
   "metadata": {},
   "source": [
    "# MNIST分类"
   ]
  },
  {
   "cell_type": "code",
   "execution_count": 1,
   "metadata": {},
   "outputs": [
    {
     "name": "stdout",
     "output_type": "stream",
     "text": [
      "Extracting MNIST_data/train-images-idx3-ubyte.gz\n",
      "Extracting MNIST_data/train-labels-idx1-ubyte.gz\n",
      "Extracting MNIST_data/t10k-images-idx3-ubyte.gz\n",
      "Extracting MNIST_data/t10k-labels-idx1-ubyte.gz\n"
     ]
    }
   ],
   "source": [
    "import tensorflow as tf\n",
    "from tensorflow.examples.tutorials.mnist import input_data\n",
    "mnist = input_data.read_data_sets(\"MNIST_data/\",one_hot=True)"
   ]
  },
  {
   "cell_type": "code",
   "execution_count": 2,
   "metadata": {},
   "outputs": [],
   "source": [
    "tf.reset_default_graph()\n",
    "#定义占位符\n",
    "x = tf.placeholder(tf.float32,[None,784]) #28*28=784\n",
    "y = tf.placeholder(tf.float32,[None,10]) #0~9,None表示输入任意数量的数据"
   ]
  },
  {
   "cell_type": "code",
   "execution_count": 3,
   "metadata": {},
   "outputs": [],
   "source": [
    "#定义学习参数\n",
    "W = tf.Variable(tf.random_normal([784,10])) #权重\n",
    "b = tf.Variable(tf.zeros([10])) #偏置"
   ]
  },
  {
   "cell_type": "code",
   "execution_count": 4,
   "metadata": {},
   "outputs": [],
   "source": [
    "#定义输出节点,正向传输\n",
    "pred = tf.nn.softmax(tf.matmul(x,W) + b) #pred = W*x + b"
   ]
  },
  {
   "cell_type": "code",
   "execution_count": 6,
   "metadata": {},
   "outputs": [],
   "source": [
    "#定义方向传播结构\n",
    "#损失函数\n",
    "cost = tf.reduce_mean(-tf.reduce_sum(y*tf.log(pred),reduction_indices=1))\n",
    "#学习率\n",
    "learning_rate = 0.01\n",
    "#优化器--这里使用梯度下降\n",
    "optimizer = tf.train.GradientDescentOptimizer(learning_rate).minimize(cost)"
   ]
  },
  {
   "cell_type": "markdown",
   "metadata": {},
   "source": [
    "## 训练、保存模型"
   ]
  },
  {
   "cell_type": "code",
   "execution_count": 28,
   "metadata": {},
   "outputs": [
    {
     "name": "stdout",
     "output_type": "stream",
     "text": [
      "Epoch: 0001 cost= 8.438262092\n",
      "Epoch: 0002 cost= 4.536028973\n",
      "Epoch: 0003 cost= 3.147904651\n",
      "Epoch: 0004 cost= 2.483212258\n",
      "Epoch: 0005 cost= 2.099999088\n",
      "Epoch: 0006 cost= 1.851285437\n",
      "Epoch: 0007 cost= 1.673957695\n",
      "Epoch: 0008 cost= 1.541807865\n",
      "Epoch: 0009 cost= 1.436720795\n",
      "Epoch: 0010 cost= 1.353604300\n",
      "Epoch: 0011 cost= 1.283974256\n",
      "Epoch: 0012 cost= 1.224813937\n",
      "Epoch: 0013 cost= 1.174841054\n",
      "Epoch: 0014 cost= 1.131299670\n",
      "Epoch: 0015 cost= 1.092505169\n",
      "Epoch: 0016 cost= 1.058963328\n",
      "Epoch: 0017 cost= 1.028338315\n",
      "Epoch: 0018 cost= 1.001090710\n",
      "Epoch: 0019 cost= 0.976081888\n",
      "Epoch: 0020 cost= 0.953427347\n",
      "Epoch: 0021 cost= 0.932856439\n",
      "Epoch: 0022 cost= 0.913790750\n",
      "Epoch: 0023 cost= 0.895938686\n",
      "Epoch: 0024 cost= 0.879305559\n",
      "Epoch: 0025 cost= 0.864044051\n",
      "Epoch: 0026 cost= 0.849593503\n",
      "Epoch: 0027 cost= 0.836121174\n",
      "Epoch: 0028 cost= 0.823617652\n",
      "Epoch: 0029 cost= 0.811508149\n",
      "Epoch: 0030 cost= 0.800385143\n",
      "Epoch: 0031 cost= 0.789790993\n",
      "Epoch: 0032 cost= 0.779487958\n",
      "Epoch: 0033 cost= 0.769856245\n",
      "Epoch: 0034 cost= 0.760678825\n",
      "Epoch: 0035 cost= 0.752055463\n",
      "Epoch: 0036 cost= 0.743563090\n",
      "Epoch: 0037 cost= 0.735664497\n",
      "Epoch: 0038 cost= 0.728392259\n",
      "Epoch: 0039 cost= 0.720383677\n",
      "Epoch: 0040 cost= 0.713912879\n",
      "Epoch: 0041 cost= 0.707186137\n",
      "Epoch: 0042 cost= 0.700531936\n",
      "Epoch: 0043 cost= 0.694414010\n",
      "Epoch: 0044 cost= 0.688314934\n",
      "Epoch: 0045 cost= 0.682437575\n",
      "Epoch: 0046 cost= 0.676693279\n",
      "Epoch: 0047 cost= 0.671615338\n",
      "Epoch: 0048 cost= 0.666133112\n",
      "Epoch: 0049 cost= 0.661180468\n",
      "Epoch: 0050 cost= 0.656272060\n",
      "Epoch: 0051 cost= 0.651495544\n",
      "Epoch: 0052 cost= 0.646903279\n",
      "Epoch: 0053 cost= 0.642521352\n",
      "Epoch: 0054 cost= 0.638173092\n",
      "Epoch: 0055 cost= 0.633974692\n",
      "Epoch: 0056 cost= 0.629780251\n",
      "Epoch: 0057 cost= 0.625683706\n",
      "Epoch: 0058 cost= 0.621908568\n",
      "Epoch: 0059 cost= 0.618244046\n",
      "Epoch: 0060 cost= 0.614493070\n",
      "Epoch: 0061 cost= 0.610793772\n",
      "Epoch: 0062 cost= 0.607545877\n",
      "Epoch: 0063 cost= 0.603797113\n",
      "Epoch: 0064 cost= 0.600589698\n",
      "Epoch: 0065 cost= 0.597545086\n",
      "Epoch: 0066 cost= 0.594129007\n",
      "Epoch: 0067 cost= 0.591086065\n",
      "Epoch: 0068 cost= 0.588030999\n",
      "Epoch: 0069 cost= 0.585288643\n",
      "Epoch: 0070 cost= 0.582059429\n",
      "Epoch: 0071 cost= 0.579354232\n",
      "Epoch: 0072 cost= 0.576418624\n",
      "Epoch: 0073 cost= 0.573861907\n",
      "Epoch: 0074 cost= 0.571203382\n",
      "Epoch: 0075 cost= 0.568521114\n",
      "Epoch: 0076 cost= 0.566391241\n",
      "Epoch: 0077 cost= 0.563072116\n",
      "Epoch: 0078 cost= 0.561232154\n",
      "Epoch: 0079 cost= 0.558374975\n",
      "Epoch: 0080 cost= 0.556037855\n",
      "Epoch: 0081 cost= 0.553991454\n",
      "Epoch: 0082 cost= 0.551590681\n",
      "Epoch: 0083 cost= 0.549557055\n",
      "Epoch: 0084 cost= 0.546981005\n",
      "Epoch: 0085 cost= 0.544843368\n",
      "Epoch: 0086 cost= 0.542900208\n",
      "Epoch: 0087 cost= 0.540830553\n",
      "Epoch: 0088 cost= 0.538710353\n",
      "Epoch: 0089 cost= 0.536608591\n",
      "Epoch: 0090 cost= 0.534587255\n",
      "Epoch: 0091 cost= 0.532852374\n",
      "Epoch: 0092 cost= 0.530900300\n",
      "Epoch: 0093 cost= 0.529041780\n",
      "Epoch: 0094 cost= 0.526988958\n",
      "Epoch: 0095 cost= 0.525078271\n",
      "Epoch: 0096 cost= 0.523321565\n",
      "Epoch: 0097 cost= 0.521558567\n",
      "Epoch: 0098 cost= 0.519970445\n",
      "Epoch: 0099 cost= 0.518279338\n",
      "Epoch: 0100 cost= 0.516244355\n",
      "Epoch: 0101 cost= 0.514768442\n",
      "Epoch: 0102 cost= 0.513092599\n",
      "Epoch: 0103 cost= 0.511447783\n",
      "Epoch: 0104 cost= 0.509775270\n",
      "Epoch: 0105 cost= 0.508350523\n",
      "Epoch: 0106 cost= 0.506589350\n",
      "Epoch: 0107 cost= 0.505267738\n",
      "Epoch: 0108 cost= 0.503493120\n",
      "Epoch: 0109 cost= 0.502147411\n",
      "Epoch: 0110 cost= 0.500681232\n",
      "Epoch: 0111 cost= 0.499306055\n",
      "Epoch: 0112 cost= 0.497667715\n",
      "Epoch: 0113 cost= 0.496463327\n",
      "Epoch: 0114 cost= 0.494503240\n",
      "Epoch: 0115 cost= 0.493487500\n",
      "Epoch: 0116 cost= 0.492133056\n",
      "Epoch: 0117 cost= 0.490749827\n",
      "Epoch: 0118 cost= 0.489806133\n",
      "Epoch: 0119 cost= 0.487955576\n",
      "Epoch: 0120 cost= 0.486610831\n",
      "Epoch: 0121 cost= 0.485542619\n",
      "Epoch: 0122 cost= 0.484291621\n",
      "Epoch: 0123 cost= 0.482886904\n",
      "Epoch: 0124 cost= 0.481683449\n",
      "Epoch: 0125 cost= 0.480516028\n",
      "Epoch: 0126 cost= 0.479404617\n",
      "Epoch: 0127 cost= 0.478201952\n",
      "Epoch: 0128 cost= 0.476550412\n",
      "Epoch: 0129 cost= 0.475871130\n",
      "Epoch: 0130 cost= 0.474573685\n",
      "Epoch: 0131 cost= 0.473109066\n",
      "Epoch: 0132 cost= 0.472107925\n",
      "Epoch: 0133 cost= 0.471196540\n",
      "Epoch: 0134 cost= 0.470185755\n",
      "Epoch: 0135 cost= 0.468559956\n",
      "Epoch: 0136 cost= 0.467700475\n",
      "Epoch: 0137 cost= 0.466727970\n",
      "Epoch: 0138 cost= 0.465551403\n",
      "Epoch: 0139 cost= 0.464528925\n",
      "Epoch: 0140 cost= 0.463608095\n",
      "Epoch: 0141 cost= 0.462434533\n",
      "Epoch: 0142 cost= 0.461353959\n",
      "Epoch: 0143 cost= 0.460453605\n",
      "Epoch: 0144 cost= 0.459325758\n",
      "Epoch: 0145 cost= 0.458417391\n",
      "Epoch: 0146 cost= 0.457415336\n",
      "Epoch: 0147 cost= 0.456622695\n",
      "Epoch: 0148 cost= 0.455191589\n",
      "Epoch: 0149 cost= 0.454518055\n",
      "Epoch: 0150 cost= 0.453841529\n",
      "Epoch: 0151 cost= 0.452415981\n",
      "Epoch: 0152 cost= 0.451751121\n",
      "Epoch: 0153 cost= 0.450757527\n",
      "Epoch: 0154 cost= 0.449671731\n",
      "Epoch: 0155 cost= 0.448838958\n",
      "Epoch: 0156 cost= 0.448334746\n",
      "Epoch: 0157 cost= 0.446888025\n",
      "Epoch: 0158 cost= 0.446234122\n",
      "Epoch: 0159 cost= 0.445325642\n",
      "Epoch: 0160 cost= 0.444564053\n",
      "Epoch: 0161 cost= 0.443598528\n",
      "Epoch: 0162 cost= 0.442867777\n",
      "Epoch: 0163 cost= 0.441864469\n",
      "Epoch: 0164 cost= 0.441072948\n",
      "Epoch: 0165 cost= 0.440265384\n",
      "Epoch: 0166 cost= 0.439475078\n",
      "Epoch: 0167 cost= 0.438615141\n",
      "Epoch: 0168 cost= 0.437883127\n",
      "Epoch: 0169 cost= 0.437099001\n",
      "Epoch: 0170 cost= 0.436049942\n",
      "Epoch: 0171 cost= 0.435477089\n",
      "Epoch: 0172 cost= 0.434768161\n",
      "Epoch: 0173 cost= 0.433780854\n",
      "Epoch: 0174 cost= 0.433035839\n",
      "Epoch: 0175 cost= 0.432402340\n",
      "Epoch: 0176 cost= 0.431484152\n",
      "Epoch: 0177 cost= 0.430865510\n",
      "Epoch: 0178 cost= 0.430178474\n",
      "Epoch: 0179 cost= 0.429303065\n",
      "Epoch: 0180 cost= 0.428547717\n",
      "Epoch: 0181 cost= 0.427878553\n",
      "Epoch: 0182 cost= 0.427140983\n",
      "Epoch: 0183 cost= 0.426472099\n",
      "Epoch: 0184 cost= 0.426113819\n",
      "Epoch: 0185 cost= 0.424652811\n",
      "Epoch: 0186 cost= 0.424324531\n",
      "Epoch: 0187 cost= 0.423850899\n",
      "Epoch: 0188 cost= 0.422881633\n",
      "Epoch: 0189 cost= 0.422207990\n",
      "Epoch: 0190 cost= 0.421436358\n",
      "Epoch: 0191 cost= 0.420954877\n",
      "Epoch: 0192 cost= 0.420176476\n",
      "Epoch: 0193 cost= 0.419625431\n",
      "Epoch: 0194 cost= 0.418867816\n",
      "Epoch: 0195 cost= 0.418314238\n",
      "Epoch: 0196 cost= 0.417787844\n",
      "Epoch: 0197 cost= 0.416807072\n",
      "Epoch: 0198 cost= 0.416191819\n",
      "Epoch: 0199 cost= 0.415753482\n",
      "Epoch: 0200 cost= 0.415080615\n",
      "Finished!\n",
      "Accuracy: 0.8951\n",
      "Model saved in file: log/521model.ckpt\n",
      "Starting restore Model and the second Session...\n",
      "INFO:tensorflow:Restoring parameters from log/521model.ckpt\n",
      "Accuracy: 0.8951\n",
      "[9 4 7 4] [[  5.81788645e-11   1.92101418e-15   3.80381870e-13   2.03693205e-08\n",
      "    9.06847345e-05   6.71270925e-07   2.27984602e-12   3.53221054e-04\n",
      "    3.31019851e-06   9.99552071e-01]\n",
      " [  2.93904137e-12   1.17402265e-14   1.37069400e-09   4.24722424e-10\n",
      "    9.99684215e-01   5.95855632e-09   7.96437507e-06   1.27703288e-07\n",
      "    5.96907853e-07   3.07111448e-04]\n",
      " [  2.97913459e-07   1.12618132e-07   3.51461637e-07   1.55944622e-06\n",
      "    3.78290147e-01   1.46385304e-07   2.54449401e-06   5.15937746e-01\n",
      "    4.92768944e-04   1.05274230e-01]\n",
      " [  4.76348117e-09   1.01727585e-06   8.24834689e-09   1.30727029e-09\n",
      "    9.96771872e-01   8.48559409e-08   6.56917691e-04   2.30372625e-05\n",
      "    1.13571678e-05   2.53559300e-03]] [[ 0.  0.  0.  0.  0.  0.  0.  0.  0.  1.]\n",
      " [ 0.  0.  0.  0.  1.  0.  0.  0.  0.  0.]\n",
      " [ 0.  0.  0.  0.  0.  0.  0.  1.  0.  0.]\n",
      " [ 0.  0.  0.  0.  1.  0.  0.  0.  0.  0.]]\n"
     ]
    },
    {
     "data": {
      "image/png": "[encoded data removed]",
      "text/plain": [
       "<matplotlib.figure.Figure at 0x1cd2676eac8>"
      ]
     },
     "metadata": {},
     "output_type": "display_data"
    },
    {
     "data": {
      "image/png": "[encoded data removed]",
      "text/plain": [
       "<matplotlib.figure.Figure at 0x1cd27a63eb8>"
      ]
     },
     "metadata": {},
     "output_type": "display_data"
    },
    {
     "data": {
      "image/png": "[encoded data removed]",
      "text/plain": [
       "<matplotlib.figure.Figure at 0x1cd27a54eb8>"
      ]
     },
     "metadata": {},
     "output_type": "display_data"
    },
    {
     "data": {
      "image/png": "[encoded data removed]",
      "text/plain": [
       "<matplotlib.figure.Figure at 0x1cd267ae080>"
      ]
     },
     "metadata": {},
     "output_type": "display_data"
    }
   ],
   "source": [
    "#迭代次数\n",
    "training_epochs = 200\n",
    "#batch_size 每次训练取的数据量\n",
    "batch_size = 100\n",
    "#中间状态打印间隔\n",
    "display_step = 1 \n",
    "\n",
    "#模型保存路径\n",
    "saver = tf.train.Saver()\n",
    "model_path = \"log/521model.ckpt\"\n",
    "\n",
    "#启动Session\n",
    "with tf.Session() as sess:\n",
    "    sess.run(tf.global_variables_initializer()) #Initializing OP\n",
    "    \n",
    "    #启动循环开始训练\n",
    "    for epoch in range(training_epochs):\n",
    "        avg_cost = 0.\n",
    "        total_batch = int(mnist.train.num_examples / batch_size)\n",
    "        #循环所有数据集\n",
    "        for i in range(total_batch):\n",
    "            batch_xs,batch_ys = mnist.train.next_batch(batch_size)\n",
    "            #运行优化器\n",
    "            _, c = sess.run([optimizer,cost],feed_dict={x:batch_xs,y:batch_ys})\n",
    "            #平均损失\n",
    "            avg_cost += c /total_batch\n",
    "        #显示信息\n",
    "        if (epoch+1) % display_step == 0:\n",
    "            print(\"Epoch:\",'%04d' % (epoch+1),\"cost=\",\"{:.9f}\".format(avg_cost))\n",
    "    print(\"Finished!\")\n",
    "    \n",
    "    #测试模型\n",
    "    correct_prediction = tf.equal(tf.argmax(pred,1),tf.argmax(y,1))\n",
    "    #计算精确率\n",
    "    accuracy = f=tf.reduce_mean(tf.cast(correct_prediction,tf.float32))\n",
    "    print(\"Accuracy:\",accuracy.eval({x:mnist.test.images,y:mnist.test.labels}))\n",
    "    \n",
    "    #保存模型\n",
    "    save_path = saver.save(sess,model_path)\n",
    "    print(\"Model saved in file: %s\" % save_path)\n",
    "    \n",
    "#测试模型    \n",
    "import pylab\n",
    "print (\"Starting restore Model and the second Session...\")\n",
    "with tf.Session() as sess:\n",
    "    #初始化变量\n",
    "    sess.run(tf.global_variables_initializer())\n",
    "    #恢复模型变量\n",
    "    saver.restore(sess,model_path)\n",
    "    \n",
    "    #测试模型\n",
    "    correct_predict = tf.equal(tf.argmax(pred,1),tf.argmax(y,1))\n",
    "    #计算精确度\n",
    "    accuracy = tf.reduce_mean(tf.cast(correct_prediction,tf.float32))\n",
    "    print(\"Accuracy:\",accuracy.eval({x:mnist.test.images,y:mnist.test.labels}))\n",
    "    \n",
    "    output = tf.argmax(pred,1)\n",
    "    batch_xs,batch_ys = mnist.train.next_batch(4)\n",
    "    outputval,predv = sess.run([output,pred],feed_dict={x:batch_xs,y:batch_ys})\n",
    "    print(outputval,predv,batch_ys)\n",
    "    \n",
    "    im = batch_xs[0]\n",
    "    im = im.reshape(-1,28)\n",
    "    pylab.imshow(im)\n",
    "    pylab.show()\n",
    "    \n",
    "    im = batch_xs[1]\n",
    "    im = im.reshape(-1,28)\n",
    "    pylab.imshow(im)\n",
    "    pylab.show()\n",
    "    \n",
    "    im = batch_xs[2]\n",
    "    im = im.reshape(-1,28)\n",
    "    pylab.imshow(im)\n",
    "    pylab.show()\n",
    "    \n",
    "    im = batch_xs[3]\n",
    "    im = im.reshape(-1,28)\n",
    "    pylab.imshow(im)\n",
    "    pylab.show()"
   ]
  },
  {
   "cell_type": "markdown",
   "metadata": {},
   "source": [
    "## 读取模型"
   ]
  },
  {
   "cell_type": "code",
   "execution_count": 29,
   "metadata": {},
   "outputs": [
    {
     "name": "stdout",
     "output_type": "stream",
     "text": [
      "Starting restore Model and the second Session...\n",
      "INFO:tensorflow:Restoring parameters from log/521model.ckpt\n",
      "Accuracy: 0.8951\n",
      "[3 8 9 3] [[  7.63801436e-05   5.24713499e-08   2.51087506e-04   5.01496434e-01\n",
      "    5.49414707e-03   4.34229255e-01   1.22712390e-05   2.13345211e-05\n",
      "    5.81697486e-02   2.49351840e-04]\n",
      " [  2.18151044e-07   1.88642346e-08   5.66618910e-05   2.00767204e-06\n",
      "    1.82367312e-05   1.00928128e-06   1.53138861e-03   6.86656731e-10\n",
      "    9.83943939e-01   1.44465650e-02]\n",
      " [  1.46791624e-11   1.27623538e-08   5.29598424e-07   2.04366283e-04\n",
      "    2.95282528e-03   4.79596711e-05   4.70274671e-07   4.86846664e-04\n",
      "    1.27759585e-02   9.83531058e-01]\n",
      " [  2.43412615e-06   1.85160708e-04   4.58794233e-07   9.67688620e-01\n",
      "    6.22429130e-09   3.19510102e-02   1.43568186e-05   1.57538947e-04\n",
      "    2.33672196e-07   2.21335142e-07]] [[ 0.  0.  0.  0.  0.  1.  0.  0.  0.  0.]\n",
      " [ 0.  0.  0.  0.  0.  0.  0.  0.  1.  0.]\n",
      " [ 0.  0.  0.  0.  0.  0.  0.  0.  0.  1.]\n",
      " [ 0.  0.  0.  1.  0.  0.  0.  0.  0.  0.]]\n"
     ]
    },
    {
     "data": {
      "image/png": "[encoded data removed]",
      "text/plain": [
       "<matplotlib.figure.Figure at 0x1cd27a00208>"
      ]
     },
     "metadata": {},
     "output_type": "display_data"
    },
    {
     "data": {
      "image/png": "[encoded data removed]",
      "text/plain": [
       "<matplotlib.figure.Figure at 0x1cd27a0ecc0>"
      ]
     },
     "metadata": {},
     "output_type": "display_data"
    },
    {
     "data": {
      "image/png": "[encoded data removed]",
      "text/plain": [
       "<matplotlib.figure.Figure at 0x1cd27b6e860>"
      ]
     },
     "metadata": {},
     "output_type": "display_data"
    },
    {
     "data": {
      "image/png": "[encoded data removed]",
      "text/plain": [
       "<matplotlib.figure.Figure at 0x1cd281a7fd0>"
      ]
     },
     "metadata": {},
     "output_type": "display_data"
    }
   ],
   "source": [
    "import pylab\n",
    "print (\"Starting restore Model and the second Session...\")\n",
    "with tf.Session() as sess:\n",
    "    #初始化变量\n",
    "    sess.run(tf.global_variables_initializer())\n",
    "    #恢复模型变量\n",
    "    saver.restore(sess,model_path)\n",
    "    \n",
    "    #测试模型\n",
    "    correct_predict = tf.equal(tf.argmax(pred,1),tf.argmax(y,1))\n",
    "    #计算精确度\n",
    "    accuracy = tf.reduce_mean(tf.cast(correct_prediction,tf.float32))\n",
    "    print(\"Accuracy:\",accuracy.eval({x:mnist.test.images,y:mnist.test.labels}))\n",
    "    \n",
    "    output = tf.argmax(pred,1)\n",
    "    batch_xs,batch_ys = mnist.train.next_batch(4)\n",
    "    outputval,predv = sess.run([output,pred],feed_dict={x:batch_xs,y:batch_ys})\n",
    "    print(outputval,predv,batch_ys)\n",
    "    \n",
    "    im = batch_xs[0]\n",
    "    im = im.reshape(-1,28)\n",
    "    pylab.imshow(im)\n",
    "    pylab.show()\n",
    "    \n",
    "    im = batch_xs[1]\n",
    "    im = im.reshape(-1,28)\n",
    "    pylab.imshow(im)\n",
    "    pylab.show()\n",
    "    \n",
    "    im = batch_xs[2]\n",
    "    im = im.reshape(-1,28)\n",
    "    pylab.imshow(im)\n",
    "    pylab.show()\n",
    "    \n",
    "    im = batch_xs[3]\n",
    "    im = im.reshape(-1,28)\n",
    "    pylab.imshow(im)\n",
    "    pylab.show()"
   ]
  }
 ],
 "metadata": {
  "kernelspec": {
   "display_name": "Python [conda env:Anaconda]",
   "language": "python",
   "name": "conda-env-Anaconda-py"
  },
  "language_info": {
   "codemirror_mode": {
    "name": "ipython",
    "version": 3
   },
   "file_extension": ".py",
   "mimetype": "text/x-python",
   "name": "python",
   "nbconvert_exporter": "python",
   "pygments_lexer": "ipython3",
   "version": "3.5.2"
  }
 },
 "nbformat": 4,
 "nbformat_minor": 2
}
