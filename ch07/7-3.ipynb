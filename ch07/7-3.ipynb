{
 "cells": [
  {
   "cell_type": "code",
   "execution_count": 9,
   "metadata": {},
   "outputs": [],
   "source": [
    "#异或\n",
    "import tensorflow as tf\n",
    "import numpy as np\n",
    "\n",
    "learning_rate = 1e-4\n",
    "n_input = 2\n",
    "n_label = 1\n",
    "n_hidden = 2"
   ]
  },
  {
   "cell_type": "code",
   "execution_count": 10,
   "metadata": {},
   "outputs": [],
   "source": [
    "x = tf.placeholder(tf.float32,[None,n_input])\n",
    "y = tf.placeholder(tf.float32,[None,n_label])\n",
    "#权重参数，h1是隐藏层，h2是输出层\n",
    "weights = {'h1':tf.Variable(tf.truncated_normal([n_input,n_hidden],stddev=0.1)),\n",
    "         'h2':tf.Variable(tf.truncated_normal([n_hidden,n_label],stddev=0.1))}\n",
    "biases = {'h1':tf.Variable(tf.zeros([n_hidden])),\n",
    "         'h2':tf.Variable(tf.zeros([n_label]))}\n",
    "#定义网络模型\n",
    "layer_1 = tf.nn.relu(tf.add(tf.matmul(x,weights['h1']),biases['h1']))\n",
    "y_pred = tf.nn.tanh(tf.add(tf.matmul(layer_1,weights['h2']),biases['h2']))\n",
    "#损失函数\n",
    "loss = tf.reduce_mean((y - y_pred)**2)\n",
    "train_step = tf.train.AdamOptimizer(learning_rate).minimize(loss)"
   ]
  },
  {
   "cell_type": "code",
   "execution_count": 11,
   "metadata": {},
   "outputs": [],
   "source": [
    "#生成数据\n",
    "X = [[0,0],[0,1],[1,0],[1,1]]\n",
    "Y = [[0],[1],[1],[0]]\n",
    "X = np.array(X).astype('float32')\n",
    "Y = np.array(Y).astype('int16')"
   ]
  },
  {
   "cell_type": "code",
   "execution_count": 12,
   "metadata": {},
   "outputs": [
    {
     "name": "stdout",
     "output_type": "stream",
     "text": [
      "[[ 0.35779992]\n",
      " [ 0.56696337]\n",
      " [ 0.56741899]\n",
      " [ 0.31681055]]\n",
      "[[ 0.          0.31550398]\n",
      " [ 0.          0.86634707]\n",
      " [ 0.          0.86772418]\n",
      " [ 0.51215351  1.4185673 ]]\n"
     ]
    }
   ],
   "source": [
    "#加载Session\n",
    "sess = tf.InteractiveSession()\n",
    "sess.run(tf.global_variables_initializer())\n",
    "#训练\n",
    "for i in range(10000):\n",
    "    sess.run(train_step,feed_dict={x:X,y:Y})\n",
    "#打印预测值\n",
    "print (sess.run(y_pred,feed_dict={x:X}))\n",
    "#打印隐藏层\n",
    "print (sess.run(layer_1,feed_dict={x:X}))"
   ]
  },
  {
   "cell_type": "code",
   "execution_count": null,
   "metadata": {},
   "outputs": [],
   "source": []
  }
 ],
 "metadata": {
  "kernelspec": {
   "display_name": "Python [Root]",
   "language": "python",
   "name": "Python [Root]"
  },
  "language_info": {
   "codemirror_mode": {
    "name": "ipython",
    "version": 3
   },
   "file_extension": ".py",
   "mimetype": "text/x-python",
   "name": "python",
   "nbconvert_exporter": "python",
   "pygments_lexer": "ipython3",
   "version": "3.5.2"
  }
 },
 "nbformat": 4,
 "nbformat_minor": 2
}
