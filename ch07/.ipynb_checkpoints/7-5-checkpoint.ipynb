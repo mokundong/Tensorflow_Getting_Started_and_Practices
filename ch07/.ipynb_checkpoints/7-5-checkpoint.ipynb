{
 "cells": [
  {
   "cell_type": "code",
   "execution_count": 1,
   "metadata": {},
   "outputs": [
    {
     "name": "stdout",
     "output_type": "stream",
     "text": [
      "Extracting MNIST_data/train-images-idx3-ubyte.gz\n",
      "Extracting MNIST_data/train-labels-idx1-ubyte.gz\n",
      "Extracting MNIST_data/t10k-images-idx3-ubyte.gz\n",
      "Extracting MNIST_data/t10k-labels-idx1-ubyte.gz\n"
     ]
    }
   ],
   "source": [
    "import tensorflow as tf\n",
    "from tensorflow.examples.tutorials.mnist import input_data\n",
    "mnist = input_data.read_data_sets(\"MNIST_data/\",one_hot=True)"
   ]
  },
  {
   "cell_type": "code",
   "execution_count": null,
   "metadata": {},
   "outputs": [],
   "source": [
    "tf.reset_default_graph()\n",
    "#定义参数\n",
    "learning_rate = 0.001\n",
    "training_epochs = 50\n",
    "batch_size = 100\n",
    "display_step = 1\n",
    "#设置网络节点参数\n",
    "n_hidden_1 = 256\n",
    "n_hidden_2 = 256\n",
    "n_input = 784\n",
    "n_classes = 10"
   ]
  },
  {
   "cell_type": "code",
   "execution_count": null,
   "metadata": {},
   "outputs": [
    {
     "name": "stdout",
     "output_type": "stream",
     "text": [
      "Epoch: 0001 cost= 161.210316821\n",
      "Epoch: 0002 cost= 40.453821907\n",
      "Epoch: 0003 cost= 25.626351914\n",
      "Epoch: 0004 cost= 17.959874322\n",
      "Epoch: 0005 cost= 13.174022238\n",
      "Epoch: 0006 cost= 9.795452336\n",
      "Epoch: 0007 cost= 7.297695719\n",
      "Epoch: 0008 cost= 5.518867305\n",
      "Epoch: 0009 cost= 4.293641269\n",
      "Epoch: 0010 cost= 3.210000107\n",
      "Epoch: 0011 cost= 2.410605768\n",
      "Epoch: 0012 cost= 1.831931214\n",
      "Epoch: 0013 cost= 1.420570568\n",
      "Epoch: 0014 cost= 1.004414587\n",
      "Epoch: 0015 cost= 0.824550001\n",
      "Epoch: 0016 cost= 0.705529951\n",
      "Epoch: 0017 cost= 0.612098095\n",
      "Epoch: 0018 cost= 0.514357371\n",
      "Epoch: 0019 cost= 0.523881838\n",
      "Epoch: 0020 cost= 0.472538459\n",
      "Epoch: 0021 cost= 0.432511817\n",
      "Epoch: 0022 cost= 0.336187701\n",
      "Epoch: 0023 cost= 0.372655693\n",
      "Epoch: 0024 cost= 0.395129581\n",
      "Epoch: 0025 cost= 0.341344427\n",
      "Epoch: 0026 cost= 0.321834171\n",
      "Epoch: 0027 cost= 0.304188674\n",
      "Epoch: 0028 cost= 0.266329661\n",
      "Epoch: 0029 cost= 0.288274148\n",
      "Epoch: 0030 cost= 0.258918882\n",
      "Epoch: 0031 cost= 0.262929151\n",
      "Epoch: 0032 cost= 0.187253953\n",
      "Epoch: 0033 cost= 0.258020378\n",
      "Epoch: 0034 cost= 0.145456408\n",
      "Epoch: 0035 cost= 0.276545912\n",
      "Epoch: 0036 cost= 0.238361984\n",
      "Epoch: 0037 cost= 0.263147395\n",
      "Epoch: 0038 cost= 0.251226163\n",
      "Epoch: 0039 cost= 0.183365533\n",
      "Epoch: 0040 cost= 0.199031261\n",
      "Epoch: 0041 cost= 0.199283635\n",
      "Epoch: 0042 cost= 0.169612932\n"
     ]
    }
   ],
   "source": [
    "#定义占位符\n",
    "x = tf.placeholder(\"float\",[None,n_input])\n",
    "y = tf.placeholder(\"float\",[None,n_classes])\n",
    "#创建model\n",
    "def multilayer_prediction(x,weights,biases):\n",
    "    #第一层隐藏层\n",
    "    layer_1 = tf.add(tf.matmul(x,weights['h1']),biases['b1'])\n",
    "    layer_1 = tf.nn.relu(layer_1)\n",
    "    #第二层隐藏层\n",
    "    layer_2 = tf.add(tf.matmul(layer_1,weights['h2']),biases['b2'])\n",
    "    layer_2 = tf.nn.relu(layer_2)\n",
    "    #输出层\n",
    "    output_layer = tf.matmul(layer_2,weights['out']) + biases['out']\n",
    "    return output_layer\n",
    "#参数\n",
    "weights = {\n",
    "    'h1' : tf.Variable(tf.random_normal([n_input,n_hidden_1])),\n",
    "    'h2' : tf.Variable(tf.random_normal([n_hidden_1,n_hidden_2])),\n",
    "    'out' : tf.Variable(tf.random_normal([n_hidden_2,n_classes]))\n",
    "}\n",
    "biases = {\n",
    "    'b1' : tf.Variable(tf.random_normal([n_hidden_1])),\n",
    "    'b2' : tf.Variable(tf.random_normal([n_hidden_2])),\n",
    "    'out' : tf.Variable(tf.random_normal([n_classes]))\n",
    "}\n",
    "#输出值\n",
    "pred = multilayer_prediction(x,weights,biases)\n",
    "#定义loss和优化器\n",
    "cost = tf.reduce_mean(tf.nn.softmax_cross_entropy_with_logits(logits=pred,labels=y))\n",
    "optimizer = tf.train.AdamOptimizer(learning_rate=learning_rate).minimize(cost)\n",
    "\n",
    "with tf.Session() as sess:\n",
    "    sess.run(tf.global_variables_initializer()) #Initializing OP\n",
    "    \n",
    "    #启动循环开始训练\n",
    "    for epoch in range(training_epochs):\n",
    "        avg_cost = 0.\n",
    "        total_batch = int(mnist.train.num_examples / batch_size)\n",
    "        #循环所有数据集\n",
    "        for i in range(total_batch):\n",
    "            batch_xs,batch_ys = mnist.train.next_batch(batch_size)\n",
    "            #运行优化器\n",
    "            _, c = sess.run([optimizer,cost],feed_dict={x:batch_xs,y:batch_ys})\n",
    "            #平均损失\n",
    "            avg_cost += c /total_batch\n",
    "        #显示信息\n",
    "        if (epoch+1) % display_step == 0:\n",
    "            print(\"Epoch:\",'%04d' % (epoch+1),\"cost=\",\"{:.9f}\".format(avg_cost))\n",
    "    print(\"Finished!\")"
   ]
  },
  {
   "cell_type": "code",
   "execution_count": null,
   "metadata": {},
   "outputs": [],
   "source": []
  }
 ],
 "metadata": {
  "kernelspec": {
   "display_name": "Python [Root]",
   "language": "python",
   "name": "Python [Root]"
  },
  "language_info": {
   "codemirror_mode": {
    "name": "ipython",
    "version": 3
   },
   "file_extension": ".py",
   "mimetype": "text/x-python",
   "name": "python",
   "nbconvert_exporter": "python",
   "pygments_lexer": "ipython3",
   "version": "3.5.2"
  }
 },
 "nbformat": 4,
 "nbformat_minor": 2
}
