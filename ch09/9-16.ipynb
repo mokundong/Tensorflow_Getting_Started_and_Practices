{
 "cells": [
  {
   "cell_type": "code",
   "execution_count": 11,
   "metadata": {},
   "outputs": [
    {
     "name": "stdout",
     "output_type": "stream",
     "text": [
      "Extracting ./data/train-images-idx3-ubyte.gz\n",
      "Extracting ./data/train-labels-idx1-ubyte.gz\n",
      "Extracting ./data/t10k-images-idx3-ubyte.gz\n",
      "Extracting ./data/t10k-labels-idx1-ubyte.gz\n"
     ]
    }
   ],
   "source": [
    "import tensorflow as tf\n",
    "from tensorflow.contrib import rnn\n",
    "import numpy as np\n",
    "\n",
    "#mnist\n",
    "from tensorflow.examples.tutorials.mnist import input_data\n",
    "mnist = input_data.read_data_sets(\"./data/\",one_hot=True)"
   ]
  },
  {
   "cell_type": "code",
   "execution_count": 12,
   "metadata": {},
   "outputs": [],
   "source": [
    "#参数设置\n",
    "learning_rate = 0.001\n",
    "training_iters = 100000\n",
    "batch_size = 128\n",
    "display_step = 10\n",
    "\n",
    "n_input = 28\n",
    "n_steps = 28\n",
    "n_hidden = 128\n",
    "n_classes = 10"
   ]
  },
  {
   "cell_type": "code",
   "execution_count": 19,
   "metadata": {},
   "outputs": [
    {
     "name": "stdout",
     "output_type": "stream",
     "text": [
      "28 (?, 256) (?, 256)\n"
     ]
    }
   ],
   "source": [
    "tf.reset_default_graph()\n",
    "\n",
    "# tf Graph input\n",
    "x = tf.placeholder(\"float\", [None, n_steps, n_input])\n",
    "y = tf.placeholder(\"float\", [None, n_classes])\n",
    "\n",
    "x1 = tf.unstack(x, n_steps, 1)\n",
    "lstm_fw_cell = tf.contrib.rnn.BasicLSTMCell(n_hidden, forget_bias=1.0)\n",
    "# 反向cell\n",
    "lstm_bw_cell = tf.contrib.rnn.BasicLSTMCell(n_hidden, forget_bias=1.0)\n",
    "outputs,_,_ = tf.contrib.rnn.stack_bidirectional_rnn([lstm_fw_cell],[lstm_bw_cell],x1,dtype=tf.float32)\n",
    "#outputs, _, _ = rnn.stack_bidirectional_rnn([lstm_fw_cell],[lstm_bw_cell], x1,dtype=tf.float32)\n",
    "\n",
    "print(len(outputs),outputs[0].shape,outputs[1].shape)\n",
    "\n",
    "pred = tf.contrib.layers.fully_connected(outputs[-1],n_classes,activation_fn = None)"
   ]
  },
  {
   "cell_type": "code",
   "execution_count": 20,
   "metadata": {},
   "outputs": [],
   "source": [
    "cost = tf.reduce_mean(tf.nn.softmax_cross_entropy_with_logits_v2(logits=pred,labels=y))\n",
    "optimizer = tf.train.AdamOptimizer(learning_rate=learning_rate).minimize(cost)\n",
    "\n",
    "correct_pred = tf.equal(tf.argmax(pred,1),tf.argmax(y,1))\n",
    "accuracy = tf.reduce_mean(tf.cast(correct_pred,tf.float32))"
   ]
  },
  {
   "cell_type": "code",
   "execution_count": 21,
   "metadata": {},
   "outputs": [
    {
     "name": "stdout",
     "output_type": "stream",
     "text": [
      "Iter 1280, Minibatch Loss= 2.188691, Training Accuracy= 0.31250\n",
      "Iter 2560, Minibatch Loss= 1.883260, Training Accuracy= 0.45312\n",
      "Iter 3840, Minibatch Loss= 1.614333, Training Accuracy= 0.43750\n",
      "Iter 5120, Minibatch Loss= 1.401980, Training Accuracy= 0.55469\n",
      "Iter 6400, Minibatch Loss= 0.952478, Training Accuracy= 0.70312\n",
      "Iter 7680, Minibatch Loss= 0.869259, Training Accuracy= 0.75000\n",
      "Iter 8960, Minibatch Loss= 0.902404, Training Accuracy= 0.73438\n",
      "Iter 10240, Minibatch Loss= 0.886630, Training Accuracy= 0.70312\n",
      "Iter 11520, Minibatch Loss= 0.691036, Training Accuracy= 0.78125\n",
      "Iter 12800, Minibatch Loss= 0.612714, Training Accuracy= 0.80469\n",
      "Iter 14080, Minibatch Loss= 0.528625, Training Accuracy= 0.82812\n",
      "Iter 15360, Minibatch Loss= 0.701586, Training Accuracy= 0.76562\n",
      "Iter 16640, Minibatch Loss= 0.486325, Training Accuracy= 0.85938\n",
      "Iter 17920, Minibatch Loss= 0.436659, Training Accuracy= 0.85938\n",
      "Iter 19200, Minibatch Loss= 0.264131, Training Accuracy= 0.92969\n",
      "Iter 20480, Minibatch Loss= 0.371570, Training Accuracy= 0.85938\n",
      "Iter 21760, Minibatch Loss= 0.361278, Training Accuracy= 0.90625\n",
      "Iter 23040, Minibatch Loss= 0.371728, Training Accuracy= 0.90625\n",
      "Iter 24320, Minibatch Loss= 0.237245, Training Accuracy= 0.92969\n",
      "Iter 25600, Minibatch Loss= 0.348574, Training Accuracy= 0.89062\n",
      "Iter 26880, Minibatch Loss= 0.314364, Training Accuracy= 0.92969\n",
      "Iter 28160, Minibatch Loss= 0.459008, Training Accuracy= 0.85938\n",
      "Iter 29440, Minibatch Loss= 0.461821, Training Accuracy= 0.87500\n",
      "Iter 30720, Minibatch Loss= 0.241162, Training Accuracy= 0.92188\n",
      "Iter 32000, Minibatch Loss= 0.257759, Training Accuracy= 0.92969\n",
      "Iter 33280, Minibatch Loss= 0.243129, Training Accuracy= 0.92188\n",
      "Iter 34560, Minibatch Loss= 0.232210, Training Accuracy= 0.92969\n",
      "Iter 35840, Minibatch Loss= 0.298727, Training Accuracy= 0.89844\n",
      "Iter 37120, Minibatch Loss= 0.210612, Training Accuracy= 0.92969\n",
      "Iter 38400, Minibatch Loss= 0.223479, Training Accuracy= 0.94531\n",
      "Iter 39680, Minibatch Loss= 0.212608, Training Accuracy= 0.95312\n",
      "Iter 40960, Minibatch Loss= 0.165125, Training Accuracy= 0.96094\n",
      "Iter 42240, Minibatch Loss= 0.218006, Training Accuracy= 0.92969\n",
      "Iter 43520, Minibatch Loss= 0.157131, Training Accuracy= 0.97656\n",
      "Iter 44800, Minibatch Loss= 0.179829, Training Accuracy= 0.93750\n",
      "Iter 46080, Minibatch Loss= 0.188351, Training Accuracy= 0.92969\n",
      "Iter 47360, Minibatch Loss= 0.173798, Training Accuracy= 0.95312\n",
      "Iter 48640, Minibatch Loss= 0.168000, Training Accuracy= 0.94531\n",
      "Iter 49920, Minibatch Loss= 0.184189, Training Accuracy= 0.96875\n",
      "Iter 51200, Minibatch Loss= 0.138198, Training Accuracy= 0.95312\n",
      "Iter 52480, Minibatch Loss= 0.167794, Training Accuracy= 0.95312\n",
      "Iter 53760, Minibatch Loss= 0.182621, Training Accuracy= 0.95312\n",
      "Iter 55040, Minibatch Loss= 0.178060, Training Accuracy= 0.94531\n",
      "Iter 56320, Minibatch Loss= 0.159622, Training Accuracy= 0.96094\n",
      "Iter 57600, Minibatch Loss= 0.220234, Training Accuracy= 0.93750\n",
      "Iter 58880, Minibatch Loss= 0.183514, Training Accuracy= 0.93750\n",
      "Iter 60160, Minibatch Loss= 0.197400, Training Accuracy= 0.92969\n",
      "Iter 61440, Minibatch Loss= 0.220070, Training Accuracy= 0.92969\n",
      "Iter 62720, Minibatch Loss= 0.145752, Training Accuracy= 0.96094\n",
      "Iter 64000, Minibatch Loss= 0.362471, Training Accuracy= 0.87500\n",
      "Iter 65280, Minibatch Loss= 0.098616, Training Accuracy= 0.98438\n",
      "Iter 66560, Minibatch Loss= 0.241039, Training Accuracy= 0.92188\n",
      "Iter 67840, Minibatch Loss= 0.177040, Training Accuracy= 0.95312\n",
      "Iter 69120, Minibatch Loss= 0.156302, Training Accuracy= 0.94531\n",
      "Iter 70400, Minibatch Loss= 0.135947, Training Accuracy= 0.96094\n",
      "Iter 71680, Minibatch Loss= 0.111921, Training Accuracy= 0.96094\n",
      "Iter 72960, Minibatch Loss= 0.201785, Training Accuracy= 0.95312\n",
      "Iter 74240, Minibatch Loss= 0.255567, Training Accuracy= 0.93750\n",
      "Iter 75520, Minibatch Loss= 0.126200, Training Accuracy= 0.97656\n",
      "Iter 76800, Minibatch Loss= 0.216699, Training Accuracy= 0.92969\n",
      "Iter 78080, Minibatch Loss= 0.183386, Training Accuracy= 0.93750\n",
      "Iter 79360, Minibatch Loss= 0.084517, Training Accuracy= 0.97656\n",
      "Iter 80640, Minibatch Loss= 0.119637, Training Accuracy= 0.96094\n",
      "Iter 81920, Minibatch Loss= 0.115725, Training Accuracy= 0.96875\n",
      "Iter 83200, Minibatch Loss= 0.061360, Training Accuracy= 0.98438\n",
      "Iter 84480, Minibatch Loss= 0.171748, Training Accuracy= 0.95312\n",
      "Iter 85760, Minibatch Loss= 0.262847, Training Accuracy= 0.92969\n",
      "Iter 87040, Minibatch Loss= 0.069943, Training Accuracy= 0.98438\n",
      "Iter 88320, Minibatch Loss= 0.103593, Training Accuracy= 0.96875\n",
      "Iter 89600, Minibatch Loss= 0.079505, Training Accuracy= 0.96875\n",
      "Iter 90880, Minibatch Loss= 0.084279, Training Accuracy= 0.97656\n",
      "Iter 92160, Minibatch Loss= 0.118066, Training Accuracy= 0.96094\n",
      "Iter 93440, Minibatch Loss= 0.129917, Training Accuracy= 0.96875\n",
      "Iter 94720, Minibatch Loss= 0.118811, Training Accuracy= 0.95312\n",
      "Iter 96000, Minibatch Loss= 0.168000, Training Accuracy= 0.97656\n",
      "Iter 97280, Minibatch Loss= 0.063258, Training Accuracy= 0.98438\n",
      "Iter 98560, Minibatch Loss= 0.133017, Training Accuracy= 0.96094\n",
      "Iter 99840, Minibatch Loss= 0.123413, Training Accuracy= 0.97656\n",
      " Finished!\n",
      "Testing Accuracy: 0.976563\n"
     ]
    }
   ],
   "source": [
    "# 启动session\n",
    "with tf.Session() as sess:\n",
    "    sess.run(tf.global_variables_initializer())\n",
    "    step = 1\n",
    "    # Keep training until reach max iterations\n",
    "    while step * batch_size < training_iters:\n",
    "        batch_x, batch_y = mnist.train.next_batch(batch_size)\n",
    "        # Reshape data to get 28 seq of 28 elements\n",
    "        batch_x = batch_x.reshape((batch_size, n_steps, n_input))\n",
    "        # Run optimization op (backprop)\n",
    "        sess.run(optimizer, feed_dict={x: batch_x, y: batch_y})\n",
    "        if step % display_step == 0:\n",
    "            # 计算批次数据的准确率\n",
    "            acc = sess.run(accuracy, feed_dict={x: batch_x, y: batch_y})\n",
    "            # Calculate batch loss\n",
    "            loss = sess.run(cost, feed_dict={x: batch_x, y: batch_y})\n",
    "            print (\"Iter \" + str(step*batch_size) + \", Minibatch Loss= \" + \\\n",
    "                  \"{:.6f}\".format(loss) + \", Training Accuracy= \" + \\\n",
    "                  \"{:.5f}\".format(acc))\n",
    "        step += 1\n",
    "    print (\" Finished!\")\n",
    "\n",
    "    # 计算准确率 for 128 mnist test images\n",
    "    test_len = 128\n",
    "    test_data = mnist.test.images[:test_len].reshape((-1, n_steps, n_input))\n",
    "    test_label = mnist.test.labels[:test_len]\n",
    "    print (\"Testing Accuracy:\", \\\n",
    "        sess.run(accuracy, feed_dict={x: test_data, y: test_label}))"
   ]
  },
  {
   "cell_type": "code",
   "execution_count": null,
   "metadata": {},
   "outputs": [],
   "source": []
  }
 ],
 "metadata": {
  "kernelspec": {
   "display_name": "Python 3",
   "language": "python",
   "name": "python3"
  },
  "language_info": {
   "codemirror_mode": {
    "name": "ipython",
    "version": 3
   },
   "file_extension": ".py",
   "mimetype": "text/x-python",
   "name": "python",
   "nbconvert_exporter": "python",
   "pygments_lexer": "ipython3",
   "version": "3.6.4"
  }
 },
 "nbformat": 4,
 "nbformat_minor": 2
}
