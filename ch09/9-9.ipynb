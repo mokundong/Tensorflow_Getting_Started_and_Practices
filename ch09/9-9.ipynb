{
 "cells": [
  {
   "cell_type": "code",
   "execution_count": 1,
   "metadata": {},
   "outputs": [
    {
     "name": "stdout",
     "output_type": "stream",
     "text": [
      "WARNING:tensorflow:From <ipython-input-1-d0f24a34755a>:6: read_data_sets (from tensorflow.contrib.learn.python.learn.datasets.mnist) is deprecated and will be removed in a future version.\n",
      "Instructions for updating:\n",
      "Please use alternatives such as official/mnist/dataset.py from tensorflow/models.\n",
      "WARNING:tensorflow:From /home/mkd/anaconda3/envs/tensorflow/lib/python3.6/site-packages/tensorflow/contrib/learn/python/learn/datasets/mnist.py:260: maybe_download (from tensorflow.contrib.learn.python.learn.datasets.base) is deprecated and will be removed in a future version.\n",
      "Instructions for updating:\n",
      "Please write your own downloading logic.\n",
      "WARNING:tensorflow:From /home/mkd/anaconda3/envs/tensorflow/lib/python3.6/site-packages/tensorflow/contrib/learn/python/learn/datasets/mnist.py:262: extract_images (from tensorflow.contrib.learn.python.learn.datasets.mnist) is deprecated and will be removed in a future version.\n",
      "Instructions for updating:\n",
      "Please use tf.data to implement this functionality.\n",
      "Extracting ./data/train-images-idx3-ubyte.gz\n",
      "WARNING:tensorflow:From /home/mkd/anaconda3/envs/tensorflow/lib/python3.6/site-packages/tensorflow/contrib/learn/python/learn/datasets/mnist.py:267: extract_labels (from tensorflow.contrib.learn.python.learn.datasets.mnist) is deprecated and will be removed in a future version.\n",
      "Instructions for updating:\n",
      "Please use tf.data to implement this functionality.\n",
      "Extracting ./data/train-labels-idx1-ubyte.gz\n",
      "WARNING:tensorflow:From /home/mkd/anaconda3/envs/tensorflow/lib/python3.6/site-packages/tensorflow/contrib/learn/python/learn/datasets/mnist.py:110: dense_to_one_hot (from tensorflow.contrib.learn.python.learn.datasets.mnist) is deprecated and will be removed in a future version.\n",
      "Instructions for updating:\n",
      "Please use tf.one_hot on tensors.\n",
      "Extracting ./data/t10k-images-idx3-ubyte.gz\n",
      "Extracting ./data/t10k-labels-idx1-ubyte.gz\n",
      "WARNING:tensorflow:From /home/mkd/anaconda3/envs/tensorflow/lib/python3.6/site-packages/tensorflow/contrib/learn/python/learn/datasets/mnist.py:290: DataSet.__init__ (from tensorflow.contrib.learn.python.learn.datasets.mnist) is deprecated and will be removed in a future version.\n",
      "Instructions for updating:\n",
      "Please use alternatives such as official/mnist/dataset.py from tensorflow/models.\n"
     ]
    }
   ],
   "source": [
    "import tensorflow as tf\n",
    "import numpy as np\n",
    "\n",
    "#mnist\n",
    "from tensorflow.examples.tutorials.mnist import input_data\n",
    "mnist = input_data.read_data_sets(\"./data/\",one_hot=True)"
   ]
  },
  {
   "cell_type": "code",
   "execution_count": 2,
   "metadata": {},
   "outputs": [],
   "source": [
    "n_input = 28 # MNIST data 输入 (img shape: 28*28)\n",
    "n_steps = 28 # timesteps\n",
    "n_hidden = 128 # hidden layer num of features\n",
    "n_classes = 10  # MNIST 列别 (0-9 ，一共10类)\n",
    "batch_size = 128"
   ]
  },
  {
   "cell_type": "code",
   "execution_count": 3,
   "metadata": {},
   "outputs": [],
   "source": [
    "tf.reset_default_graph()\n",
    "#\n",
    "x = tf.placeholder(\"float\",[None,n_steps,n_input])\n",
    "y = tf.placeholder(\"float\",[None,n_classes])"
   ]
  },
  {
   "cell_type": "code",
   "execution_count": 4,
   "metadata": {},
   "outputs": [],
   "source": [
    "gru = tf.contrib.rnn.GRUCell(n_hidden*2)\n",
    "lstm_cell = tf.contrib.rnn.LSTMCell(n_hidden)\n",
    "mcell = tf.contrib.rnn.MultiRNNCell([lstm_cell,gru])"
   ]
  },
  {
   "cell_type": "code",
   "execution_count": 5,
   "metadata": {},
   "outputs": [],
   "source": [
    "outputs,states = tf.nn.dynamic_rnn(mcell,x,dtype=tf.float32)\n",
    "outputs = tf.transpose(outputs,[1,0,2])#(28, ?, 256) 28个时序，取最后一个时序outputs[-1]=(?,256)\n",
    "pred = tf.contrib.layers.fully_connected(outputs[-1],n_classes,activation_fn=None)"
   ]
  },
  {
   "cell_type": "code",
   "execution_count": 6,
   "metadata": {},
   "outputs": [],
   "source": [
    "learning_rate = 0.001\n",
    "training_iters = 100000\n",
    "batch_size = 128\n",
    "display_step = 10"
   ]
  },
  {
   "cell_type": "code",
   "execution_count": 7,
   "metadata": {},
   "outputs": [],
   "source": [
    "cost = tf.reduce_mean(tf.nn.softmax_cross_entropy_with_logits_v2(logits=pred,labels=y))\n",
    "optimizer = tf.train.AdamOptimizer(learning_rate=learning_rate).minimize(cost)\n",
    "\n",
    "correct_pred = tf.equal(tf.argmax(pred,1),tf.argmax(y,1))\n",
    "accuracy = tf.reduce_mean(tf.cast(correct_pred,tf.float32))"
   ]
  },
  {
   "cell_type": "code",
   "execution_count": 8,
   "metadata": {},
   "outputs": [
    {
     "name": "stdout",
     "output_type": "stream",
     "text": [
      "Iter 1280, Minibatch Loss= 1.811949, Training Accuracy= 0.37500\n",
      "Iter 2560, Minibatch Loss= 1.236952, Training Accuracy= 0.54688\n",
      "Iter 3840, Minibatch Loss= 1.049935, Training Accuracy= 0.60938\n",
      "Iter 5120, Minibatch Loss= 0.961139, Training Accuracy= 0.67188\n",
      "Iter 6400, Minibatch Loss= 0.792633, Training Accuracy= 0.76562\n",
      "Iter 7680, Minibatch Loss= 0.779877, Training Accuracy= 0.69531\n",
      "Iter 8960, Minibatch Loss= 0.612009, Training Accuracy= 0.78125\n",
      "Iter 10240, Minibatch Loss= 0.580654, Training Accuracy= 0.81250\n",
      "Iter 11520, Minibatch Loss= 0.570152, Training Accuracy= 0.85156\n",
      "Iter 12800, Minibatch Loss= 0.453294, Training Accuracy= 0.83594\n",
      "Iter 14080, Minibatch Loss= 0.301132, Training Accuracy= 0.93750\n",
      "Iter 15360, Minibatch Loss= 0.287667, Training Accuracy= 0.89062\n",
      "Iter 16640, Minibatch Loss= 0.405799, Training Accuracy= 0.86719\n",
      "Iter 17920, Minibatch Loss= 0.274546, Training Accuracy= 0.88281\n",
      "Iter 19200, Minibatch Loss= 0.315118, Training Accuracy= 0.89844\n",
      "Iter 20480, Minibatch Loss= 0.261430, Training Accuracy= 0.91406\n",
      "Iter 21760, Minibatch Loss= 0.277574, Training Accuracy= 0.91406\n",
      "Iter 23040, Minibatch Loss= 0.202797, Training Accuracy= 0.93750\n",
      "Iter 24320, Minibatch Loss= 0.271255, Training Accuracy= 0.92188\n",
      "Iter 25600, Minibatch Loss= 0.182078, Training Accuracy= 0.92969\n",
      "Iter 26880, Minibatch Loss= 0.229275, Training Accuracy= 0.94531\n",
      "Iter 28160, Minibatch Loss= 0.096414, Training Accuracy= 0.98438\n",
      "Iter 29440, Minibatch Loss= 0.196041, Training Accuracy= 0.95312\n",
      "Iter 30720, Minibatch Loss= 0.209715, Training Accuracy= 0.92969\n",
      "Iter 32000, Minibatch Loss= 0.130226, Training Accuracy= 0.96094\n",
      "Iter 33280, Minibatch Loss= 0.339948, Training Accuracy= 0.90625\n",
      "Iter 34560, Minibatch Loss= 0.212127, Training Accuracy= 0.93750\n",
      "Iter 35840, Minibatch Loss= 0.110970, Training Accuracy= 0.96875\n",
      "Iter 37120, Minibatch Loss= 0.189208, Training Accuracy= 0.94531\n",
      "Iter 38400, Minibatch Loss= 0.196723, Training Accuracy= 0.91406\n",
      "Iter 39680, Minibatch Loss= 0.148858, Training Accuracy= 0.93750\n",
      "Iter 40960, Minibatch Loss= 0.104504, Training Accuracy= 0.97656\n",
      "Iter 42240, Minibatch Loss= 0.074735, Training Accuracy= 0.98438\n",
      "Iter 43520, Minibatch Loss= 0.124669, Training Accuracy= 0.95312\n",
      "Iter 44800, Minibatch Loss= 0.086458, Training Accuracy= 0.98438\n",
      "Iter 46080, Minibatch Loss= 0.188580, Training Accuracy= 0.96094\n",
      "Iter 47360, Minibatch Loss= 0.113040, Training Accuracy= 0.96875\n",
      "Iter 48640, Minibatch Loss= 0.091654, Training Accuracy= 0.99219\n",
      "Iter 49920, Minibatch Loss= 0.071954, Training Accuracy= 0.97656\n",
      "Iter 51200, Minibatch Loss= 0.108981, Training Accuracy= 0.96875\n",
      "Iter 52480, Minibatch Loss= 0.256089, Training Accuracy= 0.92969\n",
      "Iter 53760, Minibatch Loss= 0.217723, Training Accuracy= 0.92969\n",
      "Iter 55040, Minibatch Loss= 0.065783, Training Accuracy= 0.96875\n",
      "Iter 56320, Minibatch Loss= 0.146976, Training Accuracy= 0.96094\n",
      "Iter 57600, Minibatch Loss= 0.081352, Training Accuracy= 0.97656\n",
      "Iter 58880, Minibatch Loss= 0.082193, Training Accuracy= 0.97656\n",
      "Iter 60160, Minibatch Loss= 0.182238, Training Accuracy= 0.96094\n",
      "Iter 61440, Minibatch Loss= 0.164307, Training Accuracy= 0.95312\n",
      "Iter 62720, Minibatch Loss= 0.141787, Training Accuracy= 0.96875\n",
      "Iter 64000, Minibatch Loss= 0.067923, Training Accuracy= 0.98438\n",
      "Iter 65280, Minibatch Loss= 0.120252, Training Accuracy= 0.96094\n",
      "Iter 66560, Minibatch Loss= 0.213421, Training Accuracy= 0.92969\n",
      "Iter 67840, Minibatch Loss= 0.115052, Training Accuracy= 0.94531\n",
      "Iter 69120, Minibatch Loss= 0.061123, Training Accuracy= 0.97656\n",
      "Iter 70400, Minibatch Loss= 0.071015, Training Accuracy= 0.98438\n",
      "Iter 71680, Minibatch Loss= 0.073655, Training Accuracy= 0.96875\n",
      "Iter 72960, Minibatch Loss= 0.032370, Training Accuracy= 0.99219\n",
      "Iter 74240, Minibatch Loss= 0.062778, Training Accuracy= 0.97656\n",
      "Iter 75520, Minibatch Loss= 0.052855, Training Accuracy= 0.98438\n",
      "Iter 76800, Minibatch Loss= 0.084367, Training Accuracy= 0.97656\n",
      "Iter 78080, Minibatch Loss= 0.050995, Training Accuracy= 0.98438\n",
      "Iter 79360, Minibatch Loss= 0.054445, Training Accuracy= 0.97656\n",
      "Iter 80640, Minibatch Loss= 0.110292, Training Accuracy= 0.96094\n",
      "Iter 81920, Minibatch Loss= 0.089734, Training Accuracy= 0.97656\n",
      "Iter 83200, Minibatch Loss= 0.106446, Training Accuracy= 0.96875\n",
      "Iter 84480, Minibatch Loss= 0.066720, Training Accuracy= 0.98438\n",
      "Iter 85760, Minibatch Loss= 0.035356, Training Accuracy= 0.98438\n",
      "Iter 87040, Minibatch Loss= 0.053842, Training Accuracy= 0.98438\n",
      "Iter 88320, Minibatch Loss= 0.073836, Training Accuracy= 0.98438\n",
      "Iter 89600, Minibatch Loss= 0.169376, Training Accuracy= 0.93750\n",
      "Iter 90880, Minibatch Loss= 0.138576, Training Accuracy= 0.95312\n",
      "Iter 92160, Minibatch Loss= 0.094311, Training Accuracy= 0.96094\n",
      "Iter 93440, Minibatch Loss= 0.066504, Training Accuracy= 0.97656\n",
      "Iter 94720, Minibatch Loss= 0.082618, Training Accuracy= 0.96875\n",
      "Iter 96000, Minibatch Loss= 0.101977, Training Accuracy= 0.97656\n",
      "Iter 97280, Minibatch Loss= 0.068244, Training Accuracy= 0.98438\n",
      "Iter 98560, Minibatch Loss= 0.118143, Training Accuracy= 0.96875\n",
      "Iter 99840, Minibatch Loss= 0.049056, Training Accuracy= 0.98438\n",
      " Finished!\n",
      "Testing Accuracy: 0.99\n"
     ]
    }
   ],
   "source": [
    "# 启动session\n",
    "with tf.Session() as sess:\n",
    "    sess.run(tf.global_variables_initializer())\n",
    "    step = 1\n",
    "    # Keep training until reach max iterations\n",
    "    while step * batch_size < training_iters:\n",
    "        batch_x, batch_y = mnist.train.next_batch(batch_size)\n",
    "        # Reshape data to get 28 seq of 28 elements\n",
    "        batch_x = batch_x.reshape((batch_size, n_steps, n_input))\n",
    "        # Run optimization op (backprop)\n",
    "        sess.run(optimizer, feed_dict={x: batch_x, y: batch_y})\n",
    "        if step % display_step == 0:\n",
    "            # 计算批次数据的准确率\n",
    "            acc = sess.run(accuracy, feed_dict={x: batch_x, y: batch_y})\n",
    "            # Calculate batch loss\n",
    "            loss = sess.run(cost, feed_dict={x: batch_x, y: batch_y})\n",
    "            print (\"Iter \" + str(step*batch_size) + \", Minibatch Loss= \" + \\\n",
    "                  \"{:.6f}\".format(loss) + \", Training Accuracy= \" + \\\n",
    "                  \"{:.5f}\".format(acc))\n",
    "        step += 1\n",
    "    print (\" Finished!\")\n",
    "\n",
    "    # 计算准确率 for 128 mnist test images\n",
    "    test_len = 100\n",
    "    test_data = mnist.test.images[:test_len].reshape((-1, n_steps, n_input))\n",
    "    test_label = mnist.test.labels[:test_len]\n",
    "    print (\"Testing Accuracy:\", \\\n",
    "        sess.run(accuracy, feed_dict={x: test_data, y: test_label}))"
   ]
  },
  {
   "cell_type": "code",
   "execution_count": null,
   "metadata": {},
   "outputs": [],
   "source": []
  }
 ],
 "metadata": {
  "kernelspec": {
   "display_name": "tensorflow",
   "language": "python",
   "name": "tensorflow"
  },
  "language_info": {
   "codemirror_mode": {
    "name": "ipython",
    "version": 3
   },
   "file_extension": ".py",
   "mimetype": "text/x-python",
   "name": "python",
   "nbconvert_exporter": "python",
   "pygments_lexer": "ipython3",
   "version": "3.6.5"
  }
 },
 "nbformat": 4,
 "nbformat_minor": 2
}
