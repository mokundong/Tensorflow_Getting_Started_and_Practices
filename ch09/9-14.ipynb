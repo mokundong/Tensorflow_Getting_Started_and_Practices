{
 "cells": [
  {
   "cell_type": "code",
   "execution_count": 1,
   "metadata": {},
   "outputs": [
    {
     "name": "stdout",
     "output_type": "stream",
     "text": [
      "WARNING:tensorflow:From <ipython-input-1-d0f24a34755a>:6: read_data_sets (from tensorflow.contrib.learn.python.learn.datasets.mnist) is deprecated and will be removed in a future version.\n",
      "Instructions for updating:\n",
      "Please use alternatives such as official/mnist/dataset.py from tensorflow/models.\n",
      "WARNING:tensorflow:From /home/mkd/anaconda3/envs/tensorflow/lib/python3.6/site-packages/tensorflow/contrib/learn/python/learn/datasets/mnist.py:260: maybe_download (from tensorflow.contrib.learn.python.learn.datasets.base) is deprecated and will be removed in a future version.\n",
      "Instructions for updating:\n",
      "Please write your own downloading logic.\n",
      "WARNING:tensorflow:From /home/mkd/anaconda3/envs/tensorflow/lib/python3.6/site-packages/tensorflow/contrib/learn/python/learn/datasets/mnist.py:262: extract_images (from tensorflow.contrib.learn.python.learn.datasets.mnist) is deprecated and will be removed in a future version.\n",
      "Instructions for updating:\n",
      "Please use tf.data to implement this functionality.\n",
      "Extracting ./data/train-images-idx3-ubyte.gz\n",
      "WARNING:tensorflow:From /home/mkd/anaconda3/envs/tensorflow/lib/python3.6/site-packages/tensorflow/contrib/learn/python/learn/datasets/mnist.py:267: extract_labels (from tensorflow.contrib.learn.python.learn.datasets.mnist) is deprecated and will be removed in a future version.\n",
      "Instructions for updating:\n",
      "Please use tf.data to implement this functionality.\n",
      "Extracting ./data/train-labels-idx1-ubyte.gz\n",
      "WARNING:tensorflow:From /home/mkd/anaconda3/envs/tensorflow/lib/python3.6/site-packages/tensorflow/contrib/learn/python/learn/datasets/mnist.py:110: dense_to_one_hot (from tensorflow.contrib.learn.python.learn.datasets.mnist) is deprecated and will be removed in a future version.\n",
      "Instructions for updating:\n",
      "Please use tf.one_hot on tensors.\n",
      "Extracting ./data/t10k-images-idx3-ubyte.gz\n",
      "Extracting ./data/t10k-labels-idx1-ubyte.gz\n",
      "WARNING:tensorflow:From /home/mkd/anaconda3/envs/tensorflow/lib/python3.6/site-packages/tensorflow/contrib/learn/python/learn/datasets/mnist.py:290: DataSet.__init__ (from tensorflow.contrib.learn.python.learn.datasets.mnist) is deprecated and will be removed in a future version.\n",
      "Instructions for updating:\n",
      "Please use alternatives such as official/mnist/dataset.py from tensorflow/models.\n"
     ]
    }
   ],
   "source": [
    "import tensorflow as tf\n",
    "import numpy as np\n",
    "\n",
    "#mnist\n",
    "from tensorflow.examples.tutorials.mnist import input_data\n",
    "mnist = input_data.read_data_sets(\"./data/\",one_hot=True)"
   ]
  },
  {
   "cell_type": "code",
   "execution_count": 2,
   "metadata": {},
   "outputs": [],
   "source": [
    "#参数设置\n",
    "learning_rate = 0.001\n",
    "training_iters = 100000\n",
    "batch_size = 128\n",
    "display_step = 10"
   ]
  },
  {
   "cell_type": "code",
   "execution_count": 3,
   "metadata": {},
   "outputs": [],
   "source": [
    "n_input = 28\n",
    "n_steps = 28\n",
    "n_hidden = 128\n",
    "n_classes = 10"
   ]
  },
  {
   "cell_type": "code",
   "execution_count": 7,
   "metadata": {},
   "outputs": [
    {
     "name": "stdout",
     "output_type": "stream",
     "text": [
      "2 (?, 28, 128) (?, 28, 128)\n"
     ]
    }
   ],
   "source": [
    "tf.reset_default_graph()\n",
    "\n",
    "# tf Graph input\n",
    "x = tf.placeholder(\"float\", [None, n_steps, n_input])\n",
    "y = tf.placeholder(\"float\", [None, n_classes])\n",
    "\n",
    "\n",
    "\n",
    "x1 = tf.unstack(x, n_steps, 1)\n",
    "lstm_fw_cell = tf.contrib.rnn.BasicLSTMCell(n_hidden, forget_bias=1.0)\n",
    "# 反向cell\n",
    "lstm_bw_cell = tf.contrib.rnn.BasicLSTMCell(n_hidden, forget_bias=1.0)\n",
    "outputs, output_states = tf.nn.bidirectional_dynamic_rnn(lstm_fw_cell,lstm_bw_cell,x,dtype=tf.float32)\n",
    "print(len(outputs),outputs[0].shape,outputs[1].shape)\n",
    "outputs = tf.concat(outputs, 2)\n",
    "outputs = tf.transpose(outputs, [1, 0, 2])\n",
    "\n",
    "pred = tf.contrib.layers.fully_connected(outputs[-1],n_classes,activation_fn = None)"
   ]
  },
  {
   "cell_type": "code",
   "execution_count": 8,
   "metadata": {},
   "outputs": [],
   "source": [
    "# Define loss and optimizer\n",
    "cost = tf.reduce_mean(tf.nn.softmax_cross_entropy_with_logits_v2(logits=pred, labels=y))\n",
    "optimizer = tf.train.AdamOptimizer(learning_rate=learning_rate).minimize(cost)\n",
    "\n",
    "# Evaluate model\n",
    "correct_pred = tf.equal(tf.argmax(pred,1), tf.argmax(y,1))\n",
    "accuracy = tf.reduce_mean(tf.cast(correct_pred, tf.float32))"
   ]
  },
  {
   "cell_type": "code",
   "execution_count": 9,
   "metadata": {},
   "outputs": [
    {
     "name": "stdout",
     "output_type": "stream",
     "text": [
      "Iter 1280, Minibatch Loss= 2.159894, Training Accuracy= 0.34375\n",
      "Iter 2560, Minibatch Loss= 1.823686, Training Accuracy= 0.33594\n",
      "Iter 3840, Minibatch Loss= 1.522624, Training Accuracy= 0.48438\n",
      "Iter 5120, Minibatch Loss= 1.186531, Training Accuracy= 0.64844\n",
      "Iter 6400, Minibatch Loss= 0.994926, Training Accuracy= 0.66406\n",
      "Iter 7680, Minibatch Loss= 0.995630, Training Accuracy= 0.71875\n",
      "Iter 8960, Minibatch Loss= 0.749019, Training Accuracy= 0.74219\n",
      "Iter 10240, Minibatch Loss= 0.670080, Training Accuracy= 0.76562\n",
      "Iter 11520, Minibatch Loss= 0.663073, Training Accuracy= 0.78125\n",
      "Iter 12800, Minibatch Loss= 0.603056, Training Accuracy= 0.81250\n",
      "Iter 14080, Minibatch Loss= 0.492887, Training Accuracy= 0.85938\n",
      "Iter 15360, Minibatch Loss= 0.424402, Training Accuracy= 0.85156\n",
      "Iter 16640, Minibatch Loss= 0.540827, Training Accuracy= 0.85156\n",
      "Iter 17920, Minibatch Loss= 0.555641, Training Accuracy= 0.85938\n",
      "Iter 19200, Minibatch Loss= 0.295602, Training Accuracy= 0.90625\n",
      "Iter 20480, Minibatch Loss= 0.319985, Training Accuracy= 0.88281\n",
      "Iter 21760, Minibatch Loss= 0.416098, Training Accuracy= 0.88281\n",
      "Iter 23040, Minibatch Loss= 0.600605, Training Accuracy= 0.85938\n",
      "Iter 24320, Minibatch Loss= 0.347892, Training Accuracy= 0.89844\n",
      "Iter 25600, Minibatch Loss= 0.413387, Training Accuracy= 0.85938\n",
      "Iter 26880, Minibatch Loss= 0.422898, Training Accuracy= 0.88281\n",
      "Iter 28160, Minibatch Loss= 0.255292, Training Accuracy= 0.93750\n",
      "Iter 29440, Minibatch Loss= 0.233066, Training Accuracy= 0.91406\n",
      "Iter 30720, Minibatch Loss= 0.349287, Training Accuracy= 0.92188\n",
      "Iter 32000, Minibatch Loss= 0.308660, Training Accuracy= 0.89844\n",
      "Iter 33280, Minibatch Loss= 0.168628, Training Accuracy= 0.95312\n",
      "Iter 34560, Minibatch Loss= 0.355475, Training Accuracy= 0.90625\n",
      "Iter 35840, Minibatch Loss= 0.242353, Training Accuracy= 0.90625\n",
      "Iter 37120, Minibatch Loss= 0.153160, Training Accuracy= 0.95312\n",
      "Iter 38400, Minibatch Loss= 0.253870, Training Accuracy= 0.91406\n",
      "Iter 39680, Minibatch Loss= 0.235680, Training Accuracy= 0.96094\n",
      "Iter 40960, Minibatch Loss= 0.313811, Training Accuracy= 0.92188\n",
      "Iter 42240, Minibatch Loss= 0.171662, Training Accuracy= 0.95312\n",
      "Iter 43520, Minibatch Loss= 0.279176, Training Accuracy= 0.90625\n",
      "Iter 44800, Minibatch Loss= 0.172128, Training Accuracy= 0.95312\n",
      "Iter 46080, Minibatch Loss= 0.200507, Training Accuracy= 0.92969\n",
      "Iter 47360, Minibatch Loss= 0.211270, Training Accuracy= 0.92188\n",
      "Iter 48640, Minibatch Loss= 0.096828, Training Accuracy= 0.98438\n",
      "Iter 49920, Minibatch Loss= 0.160339, Training Accuracy= 0.92188\n",
      "Iter 51200, Minibatch Loss= 0.158327, Training Accuracy= 0.94531\n",
      "Iter 52480, Minibatch Loss= 0.221975, Training Accuracy= 0.90625\n",
      "Iter 53760, Minibatch Loss= 0.234555, Training Accuracy= 0.92969\n",
      "Iter 55040, Minibatch Loss= 0.173325, Training Accuracy= 0.92188\n",
      "Iter 56320, Minibatch Loss= 0.141884, Training Accuracy= 0.93750\n",
      "Iter 57600, Minibatch Loss= 0.275699, Training Accuracy= 0.92969\n",
      "Iter 58880, Minibatch Loss= 0.196483, Training Accuracy= 0.94531\n",
      "Iter 60160, Minibatch Loss= 0.176222, Training Accuracy= 0.96094\n",
      "Iter 61440, Minibatch Loss= 0.207453, Training Accuracy= 0.92188\n",
      "Iter 62720, Minibatch Loss= 0.137937, Training Accuracy= 0.96094\n",
      "Iter 64000, Minibatch Loss= 0.119261, Training Accuracy= 0.96094\n",
      "Iter 65280, Minibatch Loss= 0.145771, Training Accuracy= 0.95312\n",
      "Iter 66560, Minibatch Loss= 0.225151, Training Accuracy= 0.93750\n",
      "Iter 67840, Minibatch Loss= 0.130223, Training Accuracy= 0.94531\n",
      "Iter 69120, Minibatch Loss= 0.178623, Training Accuracy= 0.94531\n",
      "Iter 70400, Minibatch Loss= 0.212156, Training Accuracy= 0.91406\n",
      "Iter 71680, Minibatch Loss= 0.108043, Training Accuracy= 0.97656\n",
      "Iter 72960, Minibatch Loss= 0.103616, Training Accuracy= 0.97656\n",
      "Iter 74240, Minibatch Loss= 0.141198, Training Accuracy= 0.95312\n",
      "Iter 75520, Minibatch Loss= 0.229371, Training Accuracy= 0.92969\n",
      "Iter 76800, Minibatch Loss= 0.161139, Training Accuracy= 0.96875\n",
      "Iter 78080, Minibatch Loss= 0.182223, Training Accuracy= 0.93750\n",
      "Iter 79360, Minibatch Loss= 0.256896, Training Accuracy= 0.93750\n",
      "Iter 80640, Minibatch Loss= 0.170717, Training Accuracy= 0.94531\n",
      "Iter 81920, Minibatch Loss= 0.226822, Training Accuracy= 0.95312\n",
      "Iter 83200, Minibatch Loss= 0.205983, Training Accuracy= 0.94531\n",
      "Iter 84480, Minibatch Loss= 0.105227, Training Accuracy= 0.96875\n",
      "Iter 85760, Minibatch Loss= 0.118395, Training Accuracy= 0.94531\n",
      "Iter 87040, Minibatch Loss= 0.161661, Training Accuracy= 0.95312\n",
      "Iter 88320, Minibatch Loss= 0.067498, Training Accuracy= 0.98438\n",
      "Iter 89600, Minibatch Loss= 0.102455, Training Accuracy= 0.95312\n",
      "Iter 90880, Minibatch Loss= 0.156143, Training Accuracy= 0.95312\n",
      "Iter 92160, Minibatch Loss= 0.085233, Training Accuracy= 0.97656\n",
      "Iter 93440, Minibatch Loss= 0.080249, Training Accuracy= 0.97656\n",
      "Iter 94720, Minibatch Loss= 0.093158, Training Accuracy= 0.97656\n",
      "Iter 96000, Minibatch Loss= 0.094486, Training Accuracy= 0.96875\n",
      "Iter 97280, Minibatch Loss= 0.031287, Training Accuracy= 0.98438\n",
      "Iter 98560, Minibatch Loss= 0.155066, Training Accuracy= 0.95312\n",
      "Iter 99840, Minibatch Loss= 0.091117, Training Accuracy= 0.96875\n",
      " Finished!\n",
      "Testing Accuracy: 0.9453125\n"
     ]
    }
   ],
   "source": [
    "# 启动session\n",
    "with tf.Session() as sess:\n",
    "    sess.run(tf.global_variables_initializer())\n",
    "    step = 1\n",
    "    # Keep training until reach max iterations\n",
    "    while step * batch_size < training_iters:\n",
    "        batch_x, batch_y = mnist.train.next_batch(batch_size)\n",
    "        # Reshape data to get 28 seq of 28 elements\n",
    "        batch_x = batch_x.reshape((batch_size, n_steps, n_input))\n",
    "        # Run optimization op (backprop)\n",
    "        sess.run(optimizer, feed_dict={x: batch_x, y: batch_y})\n",
    "        if step % display_step == 0:\n",
    "            # 计算批次数据的准确率\n",
    "            acc = sess.run(accuracy, feed_dict={x: batch_x, y: batch_y})\n",
    "            # Calculate batch loss\n",
    "            loss = sess.run(cost, feed_dict={x: batch_x, y: batch_y})\n",
    "            print (\"Iter \" + str(step*batch_size) + \", Minibatch Loss= \" + \\\n",
    "                  \"{:.6f}\".format(loss) + \", Training Accuracy= \" + \\\n",
    "                  \"{:.5f}\".format(acc))\n",
    "        step += 1\n",
    "    print (\" Finished!\")\n",
    "\n",
    "    # 计算准确率 for 128 mnist test images\n",
    "    test_len = 128\n",
    "    test_data = mnist.test.images[:test_len].reshape((-1, n_steps, n_input))\n",
    "    test_label = mnist.test.labels[:test_len]\n",
    "    print (\"Testing Accuracy:\", \\\n",
    "        sess.run(accuracy, feed_dict={x: test_data, y: test_label}))"
   ]
  },
  {
   "cell_type": "code",
   "execution_count": null,
   "metadata": {},
   "outputs": [],
   "source": []
  }
 ],
 "metadata": {
  "kernelspec": {
   "display_name": "tensorflow",
   "language": "python",
   "name": "tensorflow"
  },
  "language_info": {
   "codemirror_mode": {
    "name": "ipython",
    "version": 3
   },
   "file_extension": ".py",
   "mimetype": "text/x-python",
   "name": "python",
   "nbconvert_exporter": "python",
   "pygments_lexer": "ipython3",
   "version": "3.6.5"
  }
 },
 "nbformat": 4,
 "nbformat_minor": 2
}
