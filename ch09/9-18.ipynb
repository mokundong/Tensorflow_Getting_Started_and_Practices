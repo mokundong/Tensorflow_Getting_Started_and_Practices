{
 "cells": [
  {
   "cell_type": "code",
   "execution_count": 1,
   "metadata": {},
   "outputs": [
    {
     "name": "stdout",
     "output_type": "stream",
     "text": [
      "WARNING:tensorflow:From <ipython-input-1-f2342c0e310b>:7: read_data_sets (from tensorflow.contrib.learn.python.learn.datasets.mnist) is deprecated and will be removed in a future version.\n",
      "Instructions for updating:\n",
      "Please use alternatives such as official/mnist/dataset.py from tensorflow/models.\n",
      "WARNING:tensorflow:From c:\\anaconda3\\lib\\site-packages\\tensorflow\\contrib\\learn\\python\\learn\\datasets\\mnist.py:260: maybe_download (from tensorflow.contrib.learn.python.learn.datasets.base) is deprecated and will be removed in a future version.\n",
      "Instructions for updating:\n",
      "Please write your own downloading logic.\n",
      "WARNING:tensorflow:From c:\\anaconda3\\lib\\site-packages\\tensorflow\\contrib\\learn\\python\\learn\\datasets\\mnist.py:262: extract_images (from tensorflow.contrib.learn.python.learn.datasets.mnist) is deprecated and will be removed in a future version.\n",
      "Instructions for updating:\n",
      "Please use tf.data to implement this functionality.\n",
      "Extracting ./data/train-images-idx3-ubyte.gz\n",
      "WARNING:tensorflow:From c:\\anaconda3\\lib\\site-packages\\tensorflow\\contrib\\learn\\python\\learn\\datasets\\mnist.py:267: extract_labels (from tensorflow.contrib.learn.python.learn.datasets.mnist) is deprecated and will be removed in a future version.\n",
      "Instructions for updating:\n",
      "Please use tf.data to implement this functionality.\n",
      "Extracting ./data/train-labels-idx1-ubyte.gz\n",
      "WARNING:tensorflow:From c:\\anaconda3\\lib\\site-packages\\tensorflow\\contrib\\learn\\python\\learn\\datasets\\mnist.py:110: dense_to_one_hot (from tensorflow.contrib.learn.python.learn.datasets.mnist) is deprecated and will be removed in a future version.\n",
      "Instructions for updating:\n",
      "Please use tf.one_hot on tensors.\n",
      "Extracting ./data/t10k-images-idx3-ubyte.gz\n",
      "Extracting ./data/t10k-labels-idx1-ubyte.gz\n",
      "WARNING:tensorflow:From c:\\anaconda3\\lib\\site-packages\\tensorflow\\contrib\\learn\\python\\learn\\datasets\\mnist.py:290: DataSet.__init__ (from tensorflow.contrib.learn.python.learn.datasets.mnist) is deprecated and will be removed in a future version.\n",
      "Instructions for updating:\n",
      "Please use alternatives such as official/mnist/dataset.py from tensorflow/models.\n"
     ]
    }
   ],
   "source": [
    "import tensorflow as tf\n",
    "from tensorflow.contrib import rnn\n",
    "import numpy as np\n",
    "\n",
    "#mnist\n",
    "from tensorflow.examples.tutorials.mnist import input_data\n",
    "mnist = input_data.read_data_sets(\"./data/\",one_hot=True)"
   ]
  },
  {
   "cell_type": "code",
   "execution_count": 2,
   "metadata": {},
   "outputs": [],
   "source": [
    "#参数设置\n",
    "learning_rate = 0.001\n",
    "training_iters = 100000\n",
    "batch_size = 128\n",
    "display_step = 10\n",
    "\n",
    "n_input = 28\n",
    "n_steps = 28\n",
    "n_hidden = 128\n",
    "n_classes = 10"
   ]
  },
  {
   "cell_type": "code",
   "execution_count": 3,
   "metadata": {},
   "outputs": [],
   "source": [
    "tf.reset_default_graph()\n",
    "\n",
    "# tf Graph input\n",
    "x = tf.placeholder(\"float\", [None, n_steps, n_input])\n",
    "y = tf.placeholder(\"float\", [None, n_classes])\n",
    "\n",
    "x1 = tf.unstack(x, n_steps, 1)\n"
   ]
  },
  {
   "cell_type": "code",
   "execution_count": 4,
   "metadata": {},
   "outputs": [],
   "source": [
    "stacked_rnn = []\n",
    "stacked_bw_rnn = []\n",
    "for i in range(3):\n",
    "    stacked_rnn.append(tf.contrib.rnn.LSTMCell(n_hidden))\n",
    "    stacked_bw_rnn.append(tf.contrib.rnn.LSTMCell(n_hidden))\n",
    "mcell = tf.contrib.rnn.MultiRNNCell(stacked_rnn)\n",
    "mcell_bw = tf.contrib.rnn.MultiRNNCell(stacked_bw_rnn)\n",
    "outputs,_,_ = tf.contrib.rnn.stack_bidirectional_rnn([mcell],[mcell_bw],x1,dtype=tf.float32)"
   ]
  },
  {
   "cell_type": "code",
   "execution_count": 5,
   "metadata": {},
   "outputs": [
    {
     "name": "stdout",
     "output_type": "stream",
     "text": [
      "28 (?, 256) (?, 256)\n"
     ]
    }
   ],
   "source": [
    "print(len(outputs),outputs[0].shape,outputs[1].shape)\n",
    "\n",
    "pred = tf.contrib.layers.fully_connected(outputs[-1],n_classes,activation_fn = None)"
   ]
  },
  {
   "cell_type": "code",
   "execution_count": 6,
   "metadata": {},
   "outputs": [],
   "source": [
    "cost = tf.reduce_mean(tf.nn.softmax_cross_entropy_with_logits_v2(logits=pred,labels=y))\n",
    "optimizer = tf.train.AdamOptimizer(learning_rate=learning_rate).minimize(cost)\n",
    "\n",
    "correct_pred = tf.equal(tf.argmax(pred,1),tf.argmax(y,1))\n",
    "accuracy = tf.reduce_mean(tf.cast(correct_pred,tf.float32))"
   ]
  },
  {
   "cell_type": "code",
   "execution_count": 7,
   "metadata": {},
   "outputs": [
    {
     "name": "stdout",
     "output_type": "stream",
     "text": [
      "Iter 1280, Minibatch Loss= 1.984615, Training Accuracy= 0.30469\n",
      "Iter 2560, Minibatch Loss= 1.644386, Training Accuracy= 0.46094\n",
      "Iter 3840, Minibatch Loss= 1.241850, Training Accuracy= 0.58594\n",
      "Iter 5120, Minibatch Loss= 1.097770, Training Accuracy= 0.63281\n",
      "Iter 6400, Minibatch Loss= 0.772826, Training Accuracy= 0.73438\n",
      "Iter 7680, Minibatch Loss= 0.794586, Training Accuracy= 0.74219\n",
      "Iter 8960, Minibatch Loss= 0.546431, Training Accuracy= 0.83594\n",
      "Iter 10240, Minibatch Loss= 0.651881, Training Accuracy= 0.77344\n",
      "Iter 11520, Minibatch Loss= 0.554262, Training Accuracy= 0.83594\n",
      "Iter 12800, Minibatch Loss= 0.547919, Training Accuracy= 0.85156\n",
      "Iter 14080, Minibatch Loss= 0.434539, Training Accuracy= 0.85156\n",
      "Iter 15360, Minibatch Loss= 0.470810, Training Accuracy= 0.82812\n",
      "Iter 16640, Minibatch Loss= 0.405915, Training Accuracy= 0.88281\n",
      "Iter 17920, Minibatch Loss= 0.392287, Training Accuracy= 0.87500\n",
      "Iter 19200, Minibatch Loss= 0.220253, Training Accuracy= 0.93750\n",
      "Iter 20480, Minibatch Loss= 0.214563, Training Accuracy= 0.94531\n",
      "Iter 21760, Minibatch Loss= 0.361439, Training Accuracy= 0.90625\n",
      "Iter 23040, Minibatch Loss= 0.409488, Training Accuracy= 0.89844\n",
      "Iter 24320, Minibatch Loss= 0.270741, Training Accuracy= 0.92969\n",
      "Iter 25600, Minibatch Loss= 0.286102, Training Accuracy= 0.92188\n",
      "Iter 26880, Minibatch Loss= 0.240684, Training Accuracy= 0.95312\n",
      "Iter 28160, Minibatch Loss= 0.298513, Training Accuracy= 0.91406\n",
      "Iter 29440, Minibatch Loss= 0.185331, Training Accuracy= 0.94531\n",
      "Iter 30720, Minibatch Loss= 0.258531, Training Accuracy= 0.93750\n",
      "Iter 32000, Minibatch Loss= 0.256823, Training Accuracy= 0.90625\n",
      "Iter 33280, Minibatch Loss= 0.225040, Training Accuracy= 0.94531\n",
      "Iter 34560, Minibatch Loss= 0.146537, Training Accuracy= 0.96875\n",
      "Iter 35840, Minibatch Loss= 0.124939, Training Accuracy= 0.97656\n",
      "Iter 37120, Minibatch Loss= 0.140426, Training Accuracy= 0.96875\n",
      "Iter 38400, Minibatch Loss= 0.190565, Training Accuracy= 0.94531\n",
      "Iter 39680, Minibatch Loss= 0.182277, Training Accuracy= 0.92969\n",
      "Iter 40960, Minibatch Loss= 0.166076, Training Accuracy= 0.97656\n",
      "Iter 42240, Minibatch Loss= 0.289982, Training Accuracy= 0.92188\n",
      "Iter 43520, Minibatch Loss= 0.142236, Training Accuracy= 0.94531\n",
      "Iter 44800, Minibatch Loss= 0.273657, Training Accuracy= 0.89844\n",
      "Iter 46080, Minibatch Loss= 0.228206, Training Accuracy= 0.94531\n",
      "Iter 47360, Minibatch Loss= 0.183349, Training Accuracy= 0.97656\n",
      "Iter 48640, Minibatch Loss= 0.169223, Training Accuracy= 0.96094\n",
      "Iter 49920, Minibatch Loss= 0.143811, Training Accuracy= 0.97656\n",
      "Iter 51200, Minibatch Loss= 0.133768, Training Accuracy= 0.96875\n",
      "Iter 52480, Minibatch Loss= 0.258084, Training Accuracy= 0.92969\n",
      "Iter 53760, Minibatch Loss= 0.073997, Training Accuracy= 0.98438\n",
      "Iter 55040, Minibatch Loss= 0.199098, Training Accuracy= 0.93750\n",
      "Iter 56320, Minibatch Loss= 0.093349, Training Accuracy= 0.98438\n",
      "Iter 57600, Minibatch Loss= 0.121205, Training Accuracy= 0.96094\n",
      "Iter 58880, Minibatch Loss= 0.107405, Training Accuracy= 0.98438\n",
      "Iter 60160, Minibatch Loss= 0.093712, Training Accuracy= 0.98438\n",
      "Iter 61440, Minibatch Loss= 0.158978, Training Accuracy= 0.94531\n",
      "Iter 62720, Minibatch Loss= 0.082440, Training Accuracy= 0.96875\n",
      "Iter 64000, Minibatch Loss= 0.127543, Training Accuracy= 0.96094\n",
      "Iter 65280, Minibatch Loss= 0.217338, Training Accuracy= 0.94531\n",
      "Iter 66560, Minibatch Loss= 0.175565, Training Accuracy= 0.94531\n",
      "Iter 67840, Minibatch Loss= 0.063014, Training Accuracy= 0.97656\n",
      "Iter 69120, Minibatch Loss= 0.119908, Training Accuracy= 0.96875\n",
      "Iter 70400, Minibatch Loss= 0.087731, Training Accuracy= 0.98438\n",
      "Iter 71680, Minibatch Loss= 0.163395, Training Accuracy= 0.94531\n",
      "Iter 72960, Minibatch Loss= 0.113863, Training Accuracy= 0.95312\n",
      "Iter 74240, Minibatch Loss= 0.162926, Training Accuracy= 0.96094\n",
      "Iter 75520, Minibatch Loss= 0.110077, Training Accuracy= 0.98438\n",
      "Iter 76800, Minibatch Loss= 0.166844, Training Accuracy= 0.96094\n",
      "Iter 78080, Minibatch Loss= 0.046311, Training Accuracy= 0.97656\n",
      "Iter 79360, Minibatch Loss= 0.102811, Training Accuracy= 0.95312\n",
      "Iter 80640, Minibatch Loss= 0.080648, Training Accuracy= 0.97656\n",
      "Iter 81920, Minibatch Loss= 0.066916, Training Accuracy= 0.98438\n",
      "Iter 83200, Minibatch Loss= 0.047250, Training Accuracy= 0.99219\n",
      "Iter 84480, Minibatch Loss= 0.100504, Training Accuracy= 0.98438\n",
      "Iter 85760, Minibatch Loss= 0.149226, Training Accuracy= 0.95312\n",
      "Iter 87040, Minibatch Loss= 0.139078, Training Accuracy= 0.94531\n",
      "Iter 88320, Minibatch Loss= 0.091043, Training Accuracy= 0.97656\n",
      "Iter 89600, Minibatch Loss= 0.172547, Training Accuracy= 0.93750\n",
      "Iter 90880, Minibatch Loss= 0.138381, Training Accuracy= 0.94531\n",
      "Iter 92160, Minibatch Loss= 0.102266, Training Accuracy= 0.96875\n",
      "Iter 93440, Minibatch Loss= 0.050014, Training Accuracy= 0.98438\n",
      "Iter 94720, Minibatch Loss= 0.054180, Training Accuracy= 0.99219\n",
      "Iter 96000, Minibatch Loss= 0.048214, Training Accuracy= 0.99219\n",
      "Iter 97280, Minibatch Loss= 0.081044, Training Accuracy= 0.98438\n",
      "Iter 98560, Minibatch Loss= 0.123853, Training Accuracy= 0.96094\n",
      "Iter 99840, Minibatch Loss= 0.061228, Training Accuracy= 0.98438\n",
      " Finished!\n",
      "Testing Accuracy: 0.992188\n"
     ]
    }
   ],
   "source": [
    "# 启动session\n",
    "with tf.Session() as sess:\n",
    "    sess.run(tf.global_variables_initializer())\n",
    "    step = 1\n",
    "    # Keep training until reach max iterations\n",
    "    while step * batch_size < training_iters:\n",
    "        batch_x, batch_y = mnist.train.next_batch(batch_size)\n",
    "        # Reshape data to get 28 seq of 28 elements\n",
    "        batch_x = batch_x.reshape((batch_size, n_steps, n_input))\n",
    "        # Run optimization op (backprop)\n",
    "        sess.run(optimizer, feed_dict={x: batch_x, y: batch_y})\n",
    "        if step % display_step == 0:\n",
    "            # 计算批次数据的准确率\n",
    "            acc = sess.run(accuracy, feed_dict={x: batch_x, y: batch_y})\n",
    "            # Calculate batch loss\n",
    "            loss = sess.run(cost, feed_dict={x: batch_x, y: batch_y})\n",
    "            print (\"Iter \" + str(step*batch_size) + \", Minibatch Loss= \" + \\\n",
    "                  \"{:.6f}\".format(loss) + \", Training Accuracy= \" + \\\n",
    "                  \"{:.5f}\".format(acc))\n",
    "        step += 1\n",
    "    print (\" Finished!\")\n",
    "\n",
    "    # 计算准确率 for 128 mnist test images\n",
    "    test_len = 128\n",
    "    test_data = mnist.test.images[:test_len].reshape((-1, n_steps, n_input))\n",
    "    test_label = mnist.test.labels[:test_len]\n",
    "    print (\"Testing Accuracy:\", \\\n",
    "        sess.run(accuracy, feed_dict={x: test_data, y: test_label}))"
   ]
  },
  {
   "cell_type": "code",
   "execution_count": null,
   "metadata": {},
   "outputs": [],
   "source": []
  }
 ],
 "metadata": {
  "kernelspec": {
   "display_name": "Python 3",
   "language": "python",
   "name": "python3"
  },
  "language_info": {
   "codemirror_mode": {
    "name": "ipython",
    "version": 3
   },
   "file_extension": ".py",
   "mimetype": "text/x-python",
   "name": "python",
   "nbconvert_exporter": "python",
   "pygments_lexer": "ipython3",
   "version": "3.6.4"
  }
 },
 "nbformat": 4,
 "nbformat_minor": 2
}
