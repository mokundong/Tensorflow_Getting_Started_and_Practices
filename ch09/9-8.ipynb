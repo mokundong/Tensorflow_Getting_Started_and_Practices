{
 "cells": [
  {
   "cell_type": "code",
   "execution_count": 1,
   "metadata": {},
   "outputs": [
    {
     "name": "stdout",
     "output_type": "stream",
     "text": [
      "WARNING:tensorflow:From <ipython-input-1-d0f24a34755a>:6: read_data_sets (from tensorflow.contrib.learn.python.learn.datasets.mnist) is deprecated and will be removed in a future version.\n",
      "Instructions for updating:\n",
      "Please use alternatives such as official/mnist/dataset.py from tensorflow/models.\n",
      "WARNING:tensorflow:From /home/mkd/anaconda3/envs/tensorflow/lib/python3.6/site-packages/tensorflow/contrib/learn/python/learn/datasets/mnist.py:260: maybe_download (from tensorflow.contrib.learn.python.learn.datasets.base) is deprecated and will be removed in a future version.\n",
      "Instructions for updating:\n",
      "Please write your own downloading logic.\n",
      "WARNING:tensorflow:From /home/mkd/anaconda3/envs/tensorflow/lib/python3.6/site-packages/tensorflow/contrib/learn/python/learn/datasets/mnist.py:262: extract_images (from tensorflow.contrib.learn.python.learn.datasets.mnist) is deprecated and will be removed in a future version.\n",
      "Instructions for updating:\n",
      "Please use tf.data to implement this functionality.\n",
      "Extracting ./data/train-images-idx3-ubyte.gz\n",
      "WARNING:tensorflow:From /home/mkd/anaconda3/envs/tensorflow/lib/python3.6/site-packages/tensorflow/contrib/learn/python/learn/datasets/mnist.py:267: extract_labels (from tensorflow.contrib.learn.python.learn.datasets.mnist) is deprecated and will be removed in a future version.\n",
      "Instructions for updating:\n",
      "Please use tf.data to implement this functionality.\n",
      "Extracting ./data/train-labels-idx1-ubyte.gz\n",
      "WARNING:tensorflow:From /home/mkd/anaconda3/envs/tensorflow/lib/python3.6/site-packages/tensorflow/contrib/learn/python/learn/datasets/mnist.py:110: dense_to_one_hot (from tensorflow.contrib.learn.python.learn.datasets.mnist) is deprecated and will be removed in a future version.\n",
      "Instructions for updating:\n",
      "Please use tf.one_hot on tensors.\n",
      "Extracting ./data/t10k-images-idx3-ubyte.gz\n",
      "Extracting ./data/t10k-labels-idx1-ubyte.gz\n",
      "WARNING:tensorflow:From /home/mkd/anaconda3/envs/tensorflow/lib/python3.6/site-packages/tensorflow/contrib/learn/python/learn/datasets/mnist.py:290: DataSet.__init__ (from tensorflow.contrib.learn.python.learn.datasets.mnist) is deprecated and will be removed in a future version.\n",
      "Instructions for updating:\n",
      "Please use alternatives such as official/mnist/dataset.py from tensorflow/models.\n"
     ]
    }
   ],
   "source": [
    "import tensorflow as tf\n",
    "import numpy as np\n",
    "\n",
    "#mnist\n",
    "from tensorflow.examples.tutorials.mnist import input_data\n",
    "mnist = input_data.read_data_sets(\"./data/\",one_hot=True)"
   ]
  },
  {
   "cell_type": "code",
   "execution_count": 2,
   "metadata": {},
   "outputs": [],
   "source": [
    "n_input = 28 # MNIST data 输入 (img shape: 28*28)\n",
    "n_steps = 28 # timesteps\n",
    "n_hidden = 128 # hidden layer num of features\n",
    "n_classes = 10  # MNIST 列别 (0-9 ，一共10类)\n",
    "batch_size = 128"
   ]
  },
  {
   "cell_type": "code",
   "execution_count": 3,
   "metadata": {},
   "outputs": [],
   "source": [
    "tf.reset_default_graph()\n",
    "#\n",
    "x = tf.placeholder(\"float\",[None,n_steps,n_input])\n",
    "y = tf.placeholder(\"float\",[None,n_classes])"
   ]
  },
  {
   "cell_type": "code",
   "execution_count": 4,
   "metadata": {},
   "outputs": [],
   "source": [
    "gru = tf.contrib.rnn.GRUCell(n_hidden*2)\n",
    "lstm_cell = tf.contrib.rnn.LSTMCell(n_hidden)\n",
    "mcell = tf.contrib.rnn.MultiRNNCell([lstm_cell,gru])"
   ]
  },
  {
   "cell_type": "code",
   "execution_count": 5,
   "metadata": {},
   "outputs": [],
   "source": [
    "x1 = tf.unstack(x, n_steps, 1)\n",
    "outputs, states = tf.contrib.rnn.static_rnn(mcell, x1, dtype=tf.float32)\n",
    "pred = tf.contrib.layers.fully_connected(outputs[-1],n_classes,activation_fn = None)"
   ]
  },
  {
   "cell_type": "code",
   "execution_count": 7,
   "metadata": {},
   "outputs": [],
   "source": [
    "learning_rate = 0.001\n",
    "training_iters = 100000\n",
    "batch_size = 128\n",
    "display_step = 10"
   ]
  },
  {
   "cell_type": "code",
   "execution_count": 8,
   "metadata": {},
   "outputs": [],
   "source": [
    "cost = tf.reduce_mean(tf.nn.softmax_cross_entropy_with_logits_v2(logits=pred,labels=y))\n",
    "optimizer = tf.train.AdamOptimizer(learning_rate=learning_rate).minimize(cost)\n",
    "\n",
    "correct_pred = tf.equal(tf.argmax(pred,1),tf.argmax(y,1))\n",
    "accuracy = tf.reduce_mean(tf.cast(correct_pred,tf.float32))"
   ]
  },
  {
   "cell_type": "code",
   "execution_count": 9,
   "metadata": {},
   "outputs": [
    {
     "name": "stdout",
     "output_type": "stream",
     "text": [
      "Iter 1280, Minibatch Loss= 1.924278, Training Accuracy= 0.33594\n",
      "Iter 2560, Minibatch Loss= 1.344485, Training Accuracy= 0.54688\n",
      "Iter 3840, Minibatch Loss= 1.132469, Training Accuracy= 0.63281\n",
      "Iter 5120, Minibatch Loss= 0.915656, Training Accuracy= 0.70312\n",
      "Iter 6400, Minibatch Loss= 0.947829, Training Accuracy= 0.66406\n",
      "Iter 7680, Minibatch Loss= 0.674243, Training Accuracy= 0.78906\n",
      "Iter 8960, Minibatch Loss= 0.535811, Training Accuracy= 0.81250\n",
      "Iter 10240, Minibatch Loss= 0.581722, Training Accuracy= 0.82031\n",
      "Iter 11520, Minibatch Loss= 0.437268, Training Accuracy= 0.83594\n",
      "Iter 12800, Minibatch Loss= 0.374421, Training Accuracy= 0.87500\n",
      "Iter 14080, Minibatch Loss= 0.348179, Training Accuracy= 0.85938\n",
      "Iter 15360, Minibatch Loss= 0.369004, Training Accuracy= 0.86719\n",
      "Iter 16640, Minibatch Loss= 0.139150, Training Accuracy= 0.96875\n",
      "Iter 17920, Minibatch Loss= 0.264871, Training Accuracy= 0.89062\n",
      "Iter 19200, Minibatch Loss= 0.295519, Training Accuracy= 0.89844\n",
      "Iter 20480, Minibatch Loss= 0.239764, Training Accuracy= 0.91406\n",
      "Iter 21760, Minibatch Loss= 0.146712, Training Accuracy= 0.95312\n",
      "Iter 23040, Minibatch Loss= 0.272416, Training Accuracy= 0.91406\n",
      "Iter 24320, Minibatch Loss= 0.306394, Training Accuracy= 0.89062\n",
      "Iter 25600, Minibatch Loss= 0.139534, Training Accuracy= 0.95312\n",
      "Iter 26880, Minibatch Loss= 0.245342, Training Accuracy= 0.89062\n",
      "Iter 28160, Minibatch Loss= 0.159142, Training Accuracy= 0.95312\n",
      "Iter 29440, Minibatch Loss= 0.168487, Training Accuracy= 0.96094\n",
      "Iter 30720, Minibatch Loss= 0.198601, Training Accuracy= 0.92969\n",
      "Iter 32000, Minibatch Loss= 0.348179, Training Accuracy= 0.90625\n",
      "Iter 33280, Minibatch Loss= 0.128444, Training Accuracy= 0.95312\n",
      "Iter 34560, Minibatch Loss= 0.219939, Training Accuracy= 0.90625\n",
      "Iter 35840, Minibatch Loss= 0.121279, Training Accuracy= 0.96875\n",
      "Iter 37120, Minibatch Loss= 0.240652, Training Accuracy= 0.92969\n",
      "Iter 38400, Minibatch Loss= 0.136860, Training Accuracy= 0.96875\n",
      "Iter 39680, Minibatch Loss= 0.164770, Training Accuracy= 0.94531\n",
      "Iter 40960, Minibatch Loss= 0.077388, Training Accuracy= 0.97656\n",
      "Iter 42240, Minibatch Loss= 0.143232, Training Accuracy= 0.97656\n",
      "Iter 43520, Minibatch Loss= 0.168753, Training Accuracy= 0.94531\n",
      "Iter 44800, Minibatch Loss= 0.054048, Training Accuracy= 0.99219\n",
      "Iter 46080, Minibatch Loss= 0.157646, Training Accuracy= 0.94531\n",
      "Iter 47360, Minibatch Loss= 0.114772, Training Accuracy= 0.96094\n",
      "Iter 48640, Minibatch Loss= 0.106181, Training Accuracy= 0.96875\n",
      "Iter 49920, Minibatch Loss= 0.183358, Training Accuracy= 0.96094\n",
      "Iter 51200, Minibatch Loss= 0.088468, Training Accuracy= 0.97656\n",
      "Iter 52480, Minibatch Loss= 0.182543, Training Accuracy= 0.94531\n",
      "Iter 53760, Minibatch Loss= 0.067965, Training Accuracy= 0.99219\n",
      "Iter 55040, Minibatch Loss= 0.114090, Training Accuracy= 0.97656\n",
      "Iter 56320, Minibatch Loss= 0.063479, Training Accuracy= 0.98438\n",
      "Iter 57600, Minibatch Loss= 0.066234, Training Accuracy= 0.97656\n",
      "Iter 58880, Minibatch Loss= 0.072912, Training Accuracy= 0.98438\n",
      "Iter 60160, Minibatch Loss= 0.104010, Training Accuracy= 0.96094\n",
      "Iter 61440, Minibatch Loss= 0.072854, Training Accuracy= 0.97656\n",
      "Iter 62720, Minibatch Loss= 0.130969, Training Accuracy= 0.95312\n",
      "Iter 64000, Minibatch Loss= 0.132966, Training Accuracy= 0.97656\n",
      "Iter 65280, Minibatch Loss= 0.150731, Training Accuracy= 0.95312\n",
      "Iter 66560, Minibatch Loss= 0.080231, Training Accuracy= 0.96875\n",
      "Iter 67840, Minibatch Loss= 0.154251, Training Accuracy= 0.96094\n",
      "Iter 69120, Minibatch Loss= 0.134068, Training Accuracy= 0.94531\n",
      "Iter 70400, Minibatch Loss= 0.044278, Training Accuracy= 0.99219\n",
      "Iter 71680, Minibatch Loss= 0.063949, Training Accuracy= 0.98438\n",
      "Iter 72960, Minibatch Loss= 0.029786, Training Accuracy= 0.99219\n",
      "Iter 74240, Minibatch Loss= 0.075925, Training Accuracy= 0.96094\n",
      "Iter 75520, Minibatch Loss= 0.114429, Training Accuracy= 0.97656\n",
      "Iter 76800, Minibatch Loss= 0.061713, Training Accuracy= 0.97656\n",
      "Iter 78080, Minibatch Loss= 0.036467, Training Accuracy= 1.00000\n",
      "Iter 79360, Minibatch Loss= 0.033814, Training Accuracy= 0.99219\n",
      "Iter 80640, Minibatch Loss= 0.024037, Training Accuracy= 1.00000\n",
      "Iter 81920, Minibatch Loss= 0.053862, Training Accuracy= 0.98438\n",
      "Iter 83200, Minibatch Loss= 0.042475, Training Accuracy= 0.98438\n",
      "Iter 84480, Minibatch Loss= 0.025354, Training Accuracy= 1.00000\n",
      "Iter 85760, Minibatch Loss= 0.106865, Training Accuracy= 0.96094\n",
      "Iter 87040, Minibatch Loss= 0.037322, Training Accuracy= 0.98438\n",
      "Iter 88320, Minibatch Loss= 0.049072, Training Accuracy= 0.98438\n",
      "Iter 89600, Minibatch Loss= 0.107794, Training Accuracy= 0.96875\n",
      "Iter 90880, Minibatch Loss= 0.094279, Training Accuracy= 0.97656\n",
      "Iter 92160, Minibatch Loss= 0.091183, Training Accuracy= 0.96875\n",
      "Iter 93440, Minibatch Loss= 0.023434, Training Accuracy= 1.00000\n",
      "Iter 94720, Minibatch Loss= 0.097626, Training Accuracy= 0.97656\n",
      "Iter 96000, Minibatch Loss= 0.090782, Training Accuracy= 0.97656\n",
      "Iter 97280, Minibatch Loss= 0.036289, Training Accuracy= 0.99219\n",
      "Iter 98560, Minibatch Loss= 0.055918, Training Accuracy= 0.99219\n",
      "Iter 99840, Minibatch Loss= 0.053928, Training Accuracy= 0.99219\n",
      " Finished!\n",
      "Testing Accuracy: 0.99\n"
     ]
    }
   ],
   "source": [
    "with tf.Session() as sess:\n",
    "    sess.run(tf.global_variables_initializer())\n",
    "    step = 1\n",
    "    while step * batch_size < training_iters:\n",
    "        batch_x,batch_y = mnist.train.next_batch(batch_size)\n",
    "        batch_x = batch_x.reshape((batch_size,n_steps,n_input))\n",
    "        sess.run(optimizer,feed_dict={x: batch_x, y: batch_y})\n",
    "        if step % display_step == 0:\n",
    "            # 计算批次数据的准确率\n",
    "            acc = sess.run(accuracy, feed_dict={x: batch_x, y: batch_y})\n",
    "            # Calculate batch loss\n",
    "            loss = sess.run(cost, feed_dict={x: batch_x, y: batch_y})\n",
    "            print (\"Iter \" + str(step*batch_size) + \", Minibatch Loss= \" + \\\n",
    "                  \"{:.6f}\".format(loss) + \", Training Accuracy= \" + \\\n",
    "                  \"{:.5f}\".format(acc))\n",
    "        step += 1\n",
    "    print (\" Finished!\")\n",
    "\n",
    "    # 计算准确率 for 128 mnist test images\n",
    "    test_len = 100\n",
    "    test_data = mnist.test.images[:test_len].reshape((-1, n_steps, n_input))\n",
    "    test_label = mnist.test.labels[:test_len]\n",
    "    print (\"Testing Accuracy:\", \\\n",
    "        sess.run(accuracy, feed_dict={x: test_data, y: test_label}))"
   ]
  },
  {
   "cell_type": "code",
   "execution_count": null,
   "metadata": {},
   "outputs": [],
   "source": []
  }
 ],
 "metadata": {
  "kernelspec": {
   "display_name": "tensorflow",
   "language": "python",
   "name": "tensorflow"
  },
  "language_info": {
   "codemirror_mode": {
    "name": "ipython",
    "version": 3
   },
   "file_extension": ".py",
   "mimetype": "text/x-python",
   "name": "python",
   "nbconvert_exporter": "python",
   "pygments_lexer": "ipython3",
   "version": "3.6.5"
  }
 },
 "nbformat": 4,
 "nbformat_minor": 2
}
