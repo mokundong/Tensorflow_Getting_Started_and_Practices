{
 "cells": [
  {
   "cell_type": "code",
   "execution_count": 52,
   "metadata": {},
   "outputs": [],
   "source": [
    "import tensorflow as tf\n",
    "import numpy as np"
   ]
  },
  {
   "cell_type": "code",
   "execution_count": 53,
   "metadata": {},
   "outputs": [
    {
     "name": "stdout",
     "output_type": "stream",
     "text": [
      "Extracting ./data/train-images-idx3-ubyte.gz\n",
      "Extracting ./data/train-labels-idx1-ubyte.gz\n",
      "Extracting ./data/t10k-images-idx3-ubyte.gz\n",
      "Extracting ./data/t10k-labels-idx1-ubyte.gz\n"
     ]
    }
   ],
   "source": [
    "#mnist\n",
    "from tensorflow.examples.tutorials.mnist import input_data\n",
    "mnist = input_data.read_data_sets(\"./data/\",one_hot=True)"
   ]
  },
  {
   "cell_type": "code",
   "execution_count": 54,
   "metadata": {},
   "outputs": [],
   "source": [
    "tf.reset_default_graph()\n",
    "n_input = 28  # MNIST输入数据\n",
    "n_step = 28   # 序列个数\n",
    "n_hidden = 128\n",
    "n_classes = 10"
   ]
  },
  {
   "cell_type": "code",
   "execution_count": 55,
   "metadata": {},
   "outputs": [],
   "source": [
    "x = tf.placeholder(\"float\",[None,n_step,n_input])\n",
    "y = tf.placeholder(\"float\",[None,n_classes])\n",
    "\n",
    "x1 = tf.unstack(x,n_step,1)"
   ]
  },
  {
   "cell_type": "code",
   "execution_count": 56,
   "metadata": {},
   "outputs": [],
   "source": [
    "#basic LSTMCell\n",
    "#lstm_cell = tf.contrib.rnn.BasicLSTMCell(n_hidden,forget_bias=1.0)\n",
    "#outputs,stas = tf.contrib.rnn.static_rnn(lstm_cell,x1,dtype=tf.float32)   #0.95\n",
    "\n",
    "#LSTMCell\n",
    "#lstm_cell = tf.contrib.rnn.LSTMCell(n_hidden,forget_bias=1.0)\n",
    "#outputs,stas = tf.contrib.rnn.static_rnn(lstm_cell,x1,dtype=tf.float32)   #0.97\n",
    "\n",
    "#gru\n",
    "#gru = tf.contrib.rnn.GRUCell(n_hidden)\n",
    "#outputs,stas = tf.contrib.rnn.static_rnn(gru,x1,dtype=tf.float32)          #0.97\n",
    "\n",
    "#动态RNN\n",
    "gru = tf.contrib.rnn.GRUCell(n_hidden)\n",
    "outputs,_  = tf.nn.dynamic_rnn(gru,x,dtype=tf.float32)\n",
    "outputs = tf.transpose(outputs, [1, 0, 2])                                  #0.99"
   ]
  },
  {
   "cell_type": "code",
   "execution_count": 57,
   "metadata": {},
   "outputs": [],
   "source": [
    "pred = tf.contrib.layers.fully_connected(outputs[-1],n_classes,activation_fn=None)"
   ]
  },
  {
   "cell_type": "code",
   "execution_count": 58,
   "metadata": {},
   "outputs": [],
   "source": [
    "#learning param\n",
    "learning_rate = 0.001\n",
    "training_iters = 100000\n",
    "batch_size = 128\n",
    "display_step = 10\n",
    "#Define loss and optimizer\n",
    "cost = tf.reduce_mean(tf.nn.softmax_cross_entropy_with_logits(logits=pred,labels=y))\n",
    "optimizer = tf.train.AdamOptimizer(learning_rate=learning_rate).minimize(cost)\n",
    "#Evaluate model\n",
    "correct_pred = tf.equal(tf.argmax(pred,1),tf.argmax(y,1))\n",
    "accuracy = tf.reduce_mean(tf.cast(correct_pred,tf.float32))"
   ]
  },
  {
   "cell_type": "code",
   "execution_count": 59,
   "metadata": {},
   "outputs": [
    {
     "name": "stdout",
     "output_type": "stream",
     "text": [
      "Iter 1280, Minibatch Loss= 2.146743, Training Accuracy= 0.26562\n",
      "Iter 2560, Minibatch Loss= 1.966783, Training Accuracy= 0.27344\n",
      "Iter 3840, Minibatch Loss= 1.661038, Training Accuracy= 0.42969\n",
      "Iter 5120, Minibatch Loss= 1.309070, Training Accuracy= 0.51562\n",
      "Iter 6400, Minibatch Loss= 1.302644, Training Accuracy= 0.58594\n",
      "Iter 7680, Minibatch Loss= 1.109557, Training Accuracy= 0.58594\n",
      "Iter 8960, Minibatch Loss= 0.900027, Training Accuracy= 0.73438\n",
      "Iter 10240, Minibatch Loss= 0.806835, Training Accuracy= 0.71094\n",
      "Iter 11520, Minibatch Loss= 0.674669, Training Accuracy= 0.78906\n",
      "Iter 12800, Minibatch Loss= 0.688387, Training Accuracy= 0.75781\n",
      "Iter 14080, Minibatch Loss= 0.492256, Training Accuracy= 0.83594\n",
      "Iter 15360, Minibatch Loss= 0.766805, Training Accuracy= 0.77344\n",
      "Iter 16640, Minibatch Loss= 0.502821, Training Accuracy= 0.87500\n",
      "Iter 17920, Minibatch Loss= 0.364338, Training Accuracy= 0.87500\n",
      "Iter 19200, Minibatch Loss= 0.509132, Training Accuracy= 0.85156\n",
      "Iter 20480, Minibatch Loss= 0.311100, Training Accuracy= 0.89062\n",
      "Iter 21760, Minibatch Loss= 0.330247, Training Accuracy= 0.90625\n",
      "Iter 23040, Minibatch Loss= 0.371707, Training Accuracy= 0.89844\n",
      "Iter 24320, Minibatch Loss= 0.287479, Training Accuracy= 0.89844\n",
      "Iter 25600, Minibatch Loss= 0.355007, Training Accuracy= 0.89844\n",
      "Iter 26880, Minibatch Loss= 0.236408, Training Accuracy= 0.94531\n",
      "Iter 28160, Minibatch Loss= 0.292776, Training Accuracy= 0.91406\n",
      "Iter 29440, Minibatch Loss= 0.224686, Training Accuracy= 0.92969\n",
      "Iter 30720, Minibatch Loss= 0.175159, Training Accuracy= 0.94531\n",
      "Iter 32000, Minibatch Loss= 0.176828, Training Accuracy= 0.94531\n",
      "Iter 33280, Minibatch Loss= 0.258789, Training Accuracy= 0.90625\n",
      "Iter 34560, Minibatch Loss= 0.213365, Training Accuracy= 0.93750\n",
      "Iter 35840, Minibatch Loss= 0.180513, Training Accuracy= 0.94531\n",
      "Iter 37120, Minibatch Loss= 0.277126, Training Accuracy= 0.93750\n",
      "Iter 38400, Minibatch Loss= 0.227762, Training Accuracy= 0.92188\n",
      "Iter 39680, Minibatch Loss= 0.186660, Training Accuracy= 0.93750\n",
      "Iter 40960, Minibatch Loss= 0.136256, Training Accuracy= 0.95312\n",
      "Iter 42240, Minibatch Loss= 0.235452, Training Accuracy= 0.93750\n",
      "Iter 43520, Minibatch Loss= 0.245268, Training Accuracy= 0.94531\n",
      "Iter 44800, Minibatch Loss= 0.192476, Training Accuracy= 0.92969\n",
      "Iter 46080, Minibatch Loss= 0.175678, Training Accuracy= 0.94531\n",
      "Iter 47360, Minibatch Loss= 0.137985, Training Accuracy= 0.96875\n",
      "Iter 48640, Minibatch Loss= 0.148812, Training Accuracy= 0.96094\n",
      "Iter 49920, Minibatch Loss= 0.094410, Training Accuracy= 0.97656\n",
      "Iter 51200, Minibatch Loss= 0.196106, Training Accuracy= 0.93750\n",
      "Iter 52480, Minibatch Loss= 0.142657, Training Accuracy= 0.95312\n",
      "Iter 53760, Minibatch Loss= 0.122336, Training Accuracy= 0.96875\n",
      "Iter 55040, Minibatch Loss= 0.107934, Training Accuracy= 0.95312\n",
      "Iter 56320, Minibatch Loss= 0.057698, Training Accuracy= 0.99219\n",
      "Iter 57600, Minibatch Loss= 0.135021, Training Accuracy= 0.96094\n",
      "Iter 58880, Minibatch Loss= 0.111721, Training Accuracy= 0.97656\n",
      "Iter 60160, Minibatch Loss= 0.118739, Training Accuracy= 0.96875\n",
      "Iter 61440, Minibatch Loss= 0.150060, Training Accuracy= 0.96094\n",
      "Iter 62720, Minibatch Loss= 0.223642, Training Accuracy= 0.92969\n",
      "Iter 64000, Minibatch Loss= 0.144406, Training Accuracy= 0.96875\n",
      "Iter 65280, Minibatch Loss= 0.119668, Training Accuracy= 0.95312\n",
      "Iter 66560, Minibatch Loss= 0.150762, Training Accuracy= 0.92188\n",
      "Iter 67840, Minibatch Loss= 0.129514, Training Accuracy= 0.96875\n",
      "Iter 69120, Minibatch Loss= 0.123689, Training Accuracy= 0.95312\n",
      "Iter 70400, Minibatch Loss= 0.180771, Training Accuracy= 0.93750\n",
      "Iter 71680, Minibatch Loss= 0.101290, Training Accuracy= 0.98438\n",
      "Iter 72960, Minibatch Loss= 0.135435, Training Accuracy= 0.96875\n",
      "Iter 74240, Minibatch Loss= 0.096412, Training Accuracy= 0.97656\n",
      "Iter 75520, Minibatch Loss= 0.120606, Training Accuracy= 0.95312\n",
      "Iter 76800, Minibatch Loss= 0.082169, Training Accuracy= 0.97656\n",
      "Iter 78080, Minibatch Loss= 0.092935, Training Accuracy= 0.96875\n",
      "Iter 79360, Minibatch Loss= 0.118343, Training Accuracy= 0.97656\n",
      "Iter 80640, Minibatch Loss= 0.087027, Training Accuracy= 0.97656\n",
      "Iter 81920, Minibatch Loss= 0.088058, Training Accuracy= 0.97656\n",
      "Iter 83200, Minibatch Loss= 0.057565, Training Accuracy= 0.99219\n",
      "Iter 84480, Minibatch Loss= 0.083326, Training Accuracy= 0.95312\n",
      "Iter 85760, Minibatch Loss= 0.063017, Training Accuracy= 0.98438\n",
      "Iter 87040, Minibatch Loss= 0.149690, Training Accuracy= 0.95312\n",
      "Iter 88320, Minibatch Loss= 0.091841, Training Accuracy= 0.96875\n",
      "Iter 89600, Minibatch Loss= 0.073143, Training Accuracy= 0.97656\n",
      "Iter 90880, Minibatch Loss= 0.050380, Training Accuracy= 0.99219\n",
      "Iter 92160, Minibatch Loss= 0.101379, Training Accuracy= 0.95312\n",
      "Iter 93440, Minibatch Loss= 0.135111, Training Accuracy= 0.93750\n",
      "Iter 94720, Minibatch Loss= 0.089545, Training Accuracy= 0.96875\n",
      "Iter 96000, Minibatch Loss= 0.083019, Training Accuracy= 0.98438\n",
      "Iter 97280, Minibatch Loss= 0.101890, Training Accuracy= 0.96875\n",
      "Iter 98560, Minibatch Loss= 0.162491, Training Accuracy= 0.95312\n",
      "Iter 99840, Minibatch Loss= 0.160985, Training Accuracy= 0.96875\n",
      " Finished!\n",
      "Testing Accuracy: 0.9921875\n"
     ]
    }
   ],
   "source": [
    "# 启动session\n",
    "with tf.Session() as sess:\n",
    "    sess.run(tf.global_variables_initializer())\n",
    "    step = 1\n",
    "    # Keep training until reach max iterations\n",
    "    while step * batch_size < training_iters:\n",
    "        batch_x, batch_y = mnist.train.next_batch(batch_size)\n",
    "        # Reshape data to get 28 seq of 28 elements\n",
    "        batch_x = batch_x.reshape((batch_size, n_step, n_input))\n",
    "        # Run optimization op (backprop)\n",
    "        sess.run(optimizer, feed_dict={x: batch_x, y: batch_y})\n",
    "        if step % display_step == 0:\n",
    "            # 计算批次数据的准确率\n",
    "            acc = sess.run(accuracy, feed_dict={x: batch_x, y: batch_y})\n",
    "            # Calculate batch loss\n",
    "            loss = sess.run(cost, feed_dict={x: batch_x, y: batch_y})\n",
    "            print (\"Iter \" + str(step*batch_size) + \", Minibatch Loss= \" + \\\n",
    "                  \"{:.6f}\".format(loss) + \", Training Accuracy= \" + \\\n",
    "                  \"{:.5f}\".format(acc))\n",
    "        step += 1\n",
    "    print (\" Finished!\")\n",
    "\n",
    "    # 计算准确率 for 128 mnist test images\n",
    "    test_len = 128\n",
    "    test_data = mnist.test.images[:test_len].reshape((-1, n_step, n_input))\n",
    "    test_label = mnist.test.labels[:test_len]\n",
    "    print (\"Testing Accuracy:\", \\\n",
    "        sess.run(accuracy, feed_dict={x: test_data, y: test_label}))"
   ]
  },
  {
   "cell_type": "code",
   "execution_count": null,
   "metadata": {},
   "outputs": [],
   "source": []
  }
 ],
 "metadata": {
  "kernelspec": {
   "display_name": "tensorflow",
   "language": "python",
   "name": "tensorflow"
  },
  "language_info": {
   "codemirror_mode": {
    "name": "ipython",
    "version": 3
   },
   "file_extension": ".py",
   "mimetype": "text/x-python",
   "name": "python",
   "nbconvert_exporter": "python",
   "pygments_lexer": "ipython3",
   "version": "3.6.5"
  }
 },
 "nbformat": 4,
 "nbformat_minor": 2
}
