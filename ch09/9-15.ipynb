{
 "cells": [
  {
   "cell_type": "code",
   "execution_count": 1,
   "metadata": {},
   "outputs": [
    {
     "name": "stdout",
     "output_type": "stream",
     "text": [
      "WARNING:tensorflow:From <ipython-input-1-d0f24a34755a>:6: read_data_sets (from tensorflow.contrib.learn.python.learn.datasets.mnist) is deprecated and will be removed in a future version.\n",
      "Instructions for updating:\n",
      "Please use alternatives such as official/mnist/dataset.py from tensorflow/models.\n",
      "WARNING:tensorflow:From /home/mkd/anaconda3/envs/tensorflow/lib/python3.6/site-packages/tensorflow/contrib/learn/python/learn/datasets/mnist.py:260: maybe_download (from tensorflow.contrib.learn.python.learn.datasets.base) is deprecated and will be removed in a future version.\n",
      "Instructions for updating:\n",
      "Please write your own downloading logic.\n",
      "WARNING:tensorflow:From /home/mkd/anaconda3/envs/tensorflow/lib/python3.6/site-packages/tensorflow/contrib/learn/python/learn/datasets/mnist.py:262: extract_images (from tensorflow.contrib.learn.python.learn.datasets.mnist) is deprecated and will be removed in a future version.\n",
      "Instructions for updating:\n",
      "Please use tf.data to implement this functionality.\n",
      "Extracting ./data/train-images-idx3-ubyte.gz\n",
      "WARNING:tensorflow:From /home/mkd/anaconda3/envs/tensorflow/lib/python3.6/site-packages/tensorflow/contrib/learn/python/learn/datasets/mnist.py:267: extract_labels (from tensorflow.contrib.learn.python.learn.datasets.mnist) is deprecated and will be removed in a future version.\n",
      "Instructions for updating:\n",
      "Please use tf.data to implement this functionality.\n",
      "Extracting ./data/train-labels-idx1-ubyte.gz\n",
      "WARNING:tensorflow:From /home/mkd/anaconda3/envs/tensorflow/lib/python3.6/site-packages/tensorflow/contrib/learn/python/learn/datasets/mnist.py:110: dense_to_one_hot (from tensorflow.contrib.learn.python.learn.datasets.mnist) is deprecated and will be removed in a future version.\n",
      "Instructions for updating:\n",
      "Please use tf.one_hot on tensors.\n",
      "Extracting ./data/t10k-images-idx3-ubyte.gz\n",
      "Extracting ./data/t10k-labels-idx1-ubyte.gz\n",
      "WARNING:tensorflow:From /home/mkd/anaconda3/envs/tensorflow/lib/python3.6/site-packages/tensorflow/contrib/learn/python/learn/datasets/mnist.py:290: DataSet.__init__ (from tensorflow.contrib.learn.python.learn.datasets.mnist) is deprecated and will be removed in a future version.\n",
      "Instructions for updating:\n",
      "Please use alternatives such as official/mnist/dataset.py from tensorflow/models.\n"
     ]
    }
   ],
   "source": [
    "import tensorflow as tf\n",
    "import numpy as np\n",
    "\n",
    "#mnist\n",
    "from tensorflow.examples.tutorials.mnist import input_data\n",
    "mnist = input_data.read_data_sets(\"./data/\",one_hot=True)"
   ]
  },
  {
   "cell_type": "code",
   "execution_count": 2,
   "metadata": {},
   "outputs": [],
   "source": [
    "#参数设置\n",
    "learning_rate = 0.001\n",
    "training_iters = 100000\n",
    "batch_size = 128\n",
    "display_step = 10\n",
    "\n",
    "n_input = 28\n",
    "n_steps = 28\n",
    "n_hidden = 128\n",
    "n_classes = 10"
   ]
  },
  {
   "cell_type": "code",
   "execution_count": 4,
   "metadata": {},
   "outputs": [
    {
     "name": "stdout",
     "output_type": "stream",
     "text": [
      "28 (?, 256) (?, 256)\n"
     ]
    }
   ],
   "source": [
    "tf.reset_default_graph()\n",
    "\n",
    "# tf Graph input\n",
    "x = tf.placeholder(\"float\", [None, n_steps, n_input])\n",
    "y = tf.placeholder(\"float\", [None, n_classes])\n",
    "\n",
    "x1 = tf.unstack(x, n_steps, 1)\n",
    "lstm_fw_cell = tf.contrib.rnn.BasicLSTMCell(n_hidden, forget_bias=1.0)\n",
    "# 反向cell\n",
    "lstm_bw_cell = tf.contrib.rnn.BasicLSTMCell(n_hidden, forget_bias=1.0)\n",
    "outputs, _,_ = tf.nn.static_bidirectional_rnn(lstm_fw_cell,lstm_bw_cell,x1,dtype=tf.float32)\n",
    "print(len(outputs),outputs[0].shape,outputs[1].shape)\n",
    "\n",
    "pred = tf.contrib.layers.fully_connected(outputs[-1],n_classes,activation_fn = None)"
   ]
  },
  {
   "cell_type": "code",
   "execution_count": 8,
   "metadata": {},
   "outputs": [],
   "source": [
    "cost = tf.reduce_mean(tf.nn.softmax_cross_entropy_with_logits_v2(logits=pred,labels=y))\n",
    "optimizer = tf.train.AdamOptimizer(learning_rate=learning_rate).minimize(cost)\n",
    "\n",
    "correct_pred = tf.equal(tf.argmax(pred,1),tf.argmax(y,1))\n",
    "accuracy = tf.reduce_mean(tf.cast(correct_pred,tf.float32))"
   ]
  },
  {
   "cell_type": "code",
   "execution_count": 9,
   "metadata": {},
   "outputs": [
    {
     "name": "stdout",
     "output_type": "stream",
     "text": [
      "Iter 1280, Minibatch Loss= 2.175671, Training Accuracy= 0.27344\n",
      "Iter 2560, Minibatch Loss= 1.805762, Training Accuracy= 0.35156\n",
      "Iter 3840, Minibatch Loss= 1.599384, Training Accuracy= 0.44531\n",
      "Iter 5120, Minibatch Loss= 1.263580, Training Accuracy= 0.63281\n",
      "Iter 6400, Minibatch Loss= 1.058460, Training Accuracy= 0.62500\n",
      "Iter 7680, Minibatch Loss= 0.868343, Training Accuracy= 0.76562\n",
      "Iter 8960, Minibatch Loss= 0.872321, Training Accuracy= 0.67969\n",
      "Iter 10240, Minibatch Loss= 0.676844, Training Accuracy= 0.82031\n",
      "Iter 11520, Minibatch Loss= 0.678401, Training Accuracy= 0.76562\n",
      "Iter 12800, Minibatch Loss= 0.596201, Training Accuracy= 0.79688\n",
      "Iter 14080, Minibatch Loss= 0.677869, Training Accuracy= 0.75781\n",
      "Iter 15360, Minibatch Loss= 0.632787, Training Accuracy= 0.78906\n",
      "Iter 16640, Minibatch Loss= 0.546538, Training Accuracy= 0.82031\n",
      "Iter 17920, Minibatch Loss= 0.433223, Training Accuracy= 0.85938\n",
      "Iter 19200, Minibatch Loss= 0.444542, Training Accuracy= 0.85156\n",
      "Iter 20480, Minibatch Loss= 0.573287, Training Accuracy= 0.79688\n",
      "Iter 21760, Minibatch Loss= 0.297242, Training Accuracy= 0.92188\n",
      "Iter 23040, Minibatch Loss= 0.391907, Training Accuracy= 0.89844\n",
      "Iter 24320, Minibatch Loss= 0.298069, Training Accuracy= 0.91406\n",
      "Iter 25600, Minibatch Loss= 0.478543, Training Accuracy= 0.83594\n",
      "Iter 26880, Minibatch Loss= 0.378330, Training Accuracy= 0.84375\n",
      "Iter 28160, Minibatch Loss= 0.307939, Training Accuracy= 0.89844\n",
      "Iter 29440, Minibatch Loss= 0.278601, Training Accuracy= 0.91406\n",
      "Iter 30720, Minibatch Loss= 0.253285, Training Accuracy= 0.93750\n",
      "Iter 32000, Minibatch Loss= 0.427847, Training Accuracy= 0.88281\n",
      "Iter 33280, Minibatch Loss= 0.223934, Training Accuracy= 0.92969\n",
      "Iter 34560, Minibatch Loss= 0.391922, Training Accuracy= 0.91406\n",
      "Iter 35840, Minibatch Loss= 0.315134, Training Accuracy= 0.90625\n",
      "Iter 37120, Minibatch Loss= 0.150773, Training Accuracy= 0.96875\n",
      "Iter 38400, Minibatch Loss= 0.261852, Training Accuracy= 0.92969\n",
      "Iter 39680, Minibatch Loss= 0.169516, Training Accuracy= 0.95312\n",
      "Iter 40960, Minibatch Loss= 0.234189, Training Accuracy= 0.93750\n",
      "Iter 42240, Minibatch Loss= 0.329534, Training Accuracy= 0.88281\n",
      "Iter 43520, Minibatch Loss= 0.276570, Training Accuracy= 0.91406\n",
      "Iter 44800, Minibatch Loss= 0.150714, Training Accuracy= 0.96094\n",
      "Iter 46080, Minibatch Loss= 0.327342, Training Accuracy= 0.89844\n",
      "Iter 47360, Minibatch Loss= 0.222213, Training Accuracy= 0.92188\n",
      "Iter 48640, Minibatch Loss= 0.150849, Training Accuracy= 0.95312\n",
      "Iter 49920, Minibatch Loss= 0.292512, Training Accuracy= 0.89844\n",
      "Iter 51200, Minibatch Loss= 0.349879, Training Accuracy= 0.91406\n",
      "Iter 52480, Minibatch Loss= 0.225534, Training Accuracy= 0.95312\n",
      "Iter 53760, Minibatch Loss= 0.238707, Training Accuracy= 0.92188\n",
      "Iter 55040, Minibatch Loss= 0.134229, Training Accuracy= 0.94531\n",
      "Iter 56320, Minibatch Loss= 0.261829, Training Accuracy= 0.92969\n",
      "Iter 57600, Minibatch Loss= 0.302734, Training Accuracy= 0.91406\n",
      "Iter 58880, Minibatch Loss= 0.205321, Training Accuracy= 0.93750\n",
      "Iter 60160, Minibatch Loss= 0.197843, Training Accuracy= 0.96094\n",
      "Iter 61440, Minibatch Loss= 0.208036, Training Accuracy= 0.95312\n",
      "Iter 62720, Minibatch Loss= 0.166883, Training Accuracy= 0.93750\n",
      "Iter 64000, Minibatch Loss= 0.164390, Training Accuracy= 0.95312\n",
      "Iter 65280, Minibatch Loss= 0.221777, Training Accuracy= 0.92969\n",
      "Iter 66560, Minibatch Loss= 0.103832, Training Accuracy= 0.97656\n",
      "Iter 67840, Minibatch Loss= 0.117920, Training Accuracy= 0.96094\n",
      "Iter 69120, Minibatch Loss= 0.077014, Training Accuracy= 0.97656\n",
      "Iter 70400, Minibatch Loss= 0.190236, Training Accuracy= 0.96094\n",
      "Iter 71680, Minibatch Loss= 0.239783, Training Accuracy= 0.93750\n",
      "Iter 72960, Minibatch Loss= 0.142525, Training Accuracy= 0.94531\n",
      "Iter 74240, Minibatch Loss= 0.139820, Training Accuracy= 0.94531\n",
      "Iter 75520, Minibatch Loss= 0.070533, Training Accuracy= 0.98438\n",
      "Iter 76800, Minibatch Loss= 0.116830, Training Accuracy= 0.96094\n",
      "Iter 78080, Minibatch Loss= 0.081850, Training Accuracy= 0.97656\n",
      "Iter 79360, Minibatch Loss= 0.100369, Training Accuracy= 0.98438\n",
      "Iter 80640, Minibatch Loss= 0.140395, Training Accuracy= 0.96094\n",
      "Iter 81920, Minibatch Loss= 0.131084, Training Accuracy= 0.96094\n",
      "Iter 83200, Minibatch Loss= 0.157913, Training Accuracy= 0.94531\n",
      "Iter 84480, Minibatch Loss= 0.125301, Training Accuracy= 0.96875\n",
      "Iter 85760, Minibatch Loss= 0.087192, Training Accuracy= 0.97656\n",
      "Iter 87040, Minibatch Loss= 0.186248, Training Accuracy= 0.94531\n",
      "Iter 88320, Minibatch Loss= 0.192883, Training Accuracy= 0.92188\n",
      "Iter 89600, Minibatch Loss= 0.054972, Training Accuracy= 0.98438\n",
      "Iter 90880, Minibatch Loss= 0.153699, Training Accuracy= 0.93750\n",
      "Iter 92160, Minibatch Loss= 0.119731, Training Accuracy= 0.96094\n",
      "Iter 93440, Minibatch Loss= 0.102593, Training Accuracy= 0.96094\n",
      "Iter 94720, Minibatch Loss= 0.130888, Training Accuracy= 0.96094\n",
      "Iter 96000, Minibatch Loss= 0.127604, Training Accuracy= 0.96875\n",
      "Iter 97280, Minibatch Loss= 0.143664, Training Accuracy= 0.95312\n",
      "Iter 98560, Minibatch Loss= 0.099418, Training Accuracy= 0.97656\n",
      "Iter 99840, Minibatch Loss= 0.087938, Training Accuracy= 0.97656\n",
      " Finished!\n",
      "Testing Accuracy: 0.953125\n"
     ]
    }
   ],
   "source": [
    "# 启动session\n",
    "with tf.Session() as sess:\n",
    "    sess.run(tf.global_variables_initializer())\n",
    "    step = 1\n",
    "    # Keep training until reach max iterations\n",
    "    while step * batch_size < training_iters:\n",
    "        batch_x, batch_y = mnist.train.next_batch(batch_size)\n",
    "        # Reshape data to get 28 seq of 28 elements\n",
    "        batch_x = batch_x.reshape((batch_size, n_steps, n_input))\n",
    "        # Run optimization op (backprop)\n",
    "        sess.run(optimizer, feed_dict={x: batch_x, y: batch_y})\n",
    "        if step % display_step == 0:\n",
    "            # 计算批次数据的准确率\n",
    "            acc = sess.run(accuracy, feed_dict={x: batch_x, y: batch_y})\n",
    "            # Calculate batch loss\n",
    "            loss = sess.run(cost, feed_dict={x: batch_x, y: batch_y})\n",
    "            print (\"Iter \" + str(step*batch_size) + \", Minibatch Loss= \" + \\\n",
    "                  \"{:.6f}\".format(loss) + \", Training Accuracy= \" + \\\n",
    "                  \"{:.5f}\".format(acc))\n",
    "        step += 1\n",
    "    print (\" Finished!\")\n",
    "\n",
    "    # 计算准确率 for 128 mnist test images\n",
    "    test_len = 128\n",
    "    test_data = mnist.test.images[:test_len].reshape((-1, n_steps, n_input))\n",
    "    test_label = mnist.test.labels[:test_len]\n",
    "    print (\"Testing Accuracy:\", \\\n",
    "        sess.run(accuracy, feed_dict={x: test_data, y: test_label}))"
   ]
  },
  {
   "cell_type": "code",
   "execution_count": null,
   "metadata": {},
   "outputs": [],
   "source": []
  }
 ],
 "metadata": {
  "kernelspec": {
   "display_name": "tensorflow",
   "language": "python",
   "name": "tensorflow"
  },
  "language_info": {
   "codemirror_mode": {
    "name": "ipython",
    "version": 3
   },
   "file_extension": ".py",
   "mimetype": "text/x-python",
   "name": "python",
   "nbconvert_exporter": "python",
   "pygments_lexer": "ipython3",
   "version": "3.6.5"
  }
 },
 "nbformat": 4,
 "nbformat_minor": 2
}
