{
 "cells": [
  {
   "cell_type": "code",
   "execution_count": 9,
   "metadata": {},
   "outputs": [
    {
     "name": "stdout",
     "output_type": "stream",
     "text": [
      "Extracting ./data/train-images-idx3-ubyte.gz\n",
      "Extracting ./data/train-labels-idx1-ubyte.gz\n",
      "Extracting ./data/t10k-images-idx3-ubyte.gz\n",
      "Extracting ./data/t10k-labels-idx1-ubyte.gz\n"
     ]
    }
   ],
   "source": [
    "import tensorflow as tf\n",
    "import numpy as np\n",
    "\n",
    "#mnist\n",
    "from tensorflow.examples.tutorials.mnist import input_data\n",
    "mnist = input_data.read_data_sets(\"./data/\",one_hot=True)"
   ]
  },
  {
   "cell_type": "code",
   "execution_count": 10,
   "metadata": {},
   "outputs": [],
   "source": [
    "n_input = 28 # MNIST data 输入 (img shape: 28*28)\n",
    "n_steps = 28 # timesteps\n",
    "n_hidden = 128 # hidden layer num of features\n",
    "n_classes = 10  # MNIST 列别 (0-9 ，一共10类)\n",
    "batch_size = 128"
   ]
  },
  {
   "cell_type": "code",
   "execution_count": 11,
   "metadata": {},
   "outputs": [],
   "source": [
    "tf.reset_default_graph()\n",
    "#\n",
    "x = tf.placeholder(\"float\",[None,n_steps,n_input])\n",
    "y = tf.placeholder(\"float\",[None,n_classes])"
   ]
  },
  {
   "cell_type": "code",
   "execution_count": 12,
   "metadata": {},
   "outputs": [],
   "source": [
    "stacked_rnn = []\n",
    "for i in range(3):\n",
    "    stacked_rnn.append(tf.contrib.rnn.LSTMCell(n_hidden))\n",
    "mcell = tf.contrib.rnn.MultiRNNCell(stacked_rnn)\n",
    "\n",
    "x1 = tf.unstack(x,n_steps,1)\n",
    "outputs,states = tf.contrib.rnn.static_rnn(mcell,x1,dtype=tf.float32)\n",
    "pred = tf.contrib.layers.fully_connected(outputs[-1],n_classes,activation_fn=None)"
   ]
  },
  {
   "cell_type": "code",
   "execution_count": 15,
   "metadata": {},
   "outputs": [],
   "source": [
    "cost = tf.reduce_mean(tf.nn.softmax_cross_entropy_with_logits_v2(logits=pred,labels=y))\n",
    "optimizer = tf.train.AdamOptimizer(learning_rate=learning_rate).minimize(cost)\n",
    "\n",
    "correct_pred = tf.equal(tf.argmax(pred,1),tf.argmax(y,1))\n",
    "accuracy = tf.reduce_mean(tf.cast(correct_pred,tf.float32))"
   ]
  },
  {
   "cell_type": "code",
   "execution_count": 13,
   "metadata": {},
   "outputs": [],
   "source": [
    "learning_rate = 0.001\n",
    "training_iters = 100000\n",
    "batch_size = 128\n",
    "display_step = 10"
   ]
  },
  {
   "cell_type": "code",
   "execution_count": 17,
   "metadata": {},
   "outputs": [
    {
     "name": "stdout",
     "output_type": "stream",
     "text": [
      "Iter 1280, Minibatch Loss= 1.818905, Training Accuracy= 0.40625\n",
      "Iter 2560, Minibatch Loss= 1.360624, Training Accuracy= 0.54688\n",
      "Iter 3840, Minibatch Loss= 1.076709, Training Accuracy= 0.61719\n",
      "Iter 5120, Minibatch Loss= 1.163469, Training Accuracy= 0.59375\n",
      "Iter 6400, Minibatch Loss= 1.068005, Training Accuracy= 0.61719\n",
      "Iter 7680, Minibatch Loss= 0.820572, Training Accuracy= 0.71094\n",
      "Iter 8960, Minibatch Loss= 0.603731, Training Accuracy= 0.82031\n",
      "Iter 10240, Minibatch Loss= 0.533566, Training Accuracy= 0.80469\n",
      "Iter 11520, Minibatch Loss= 0.480227, Training Accuracy= 0.89062\n",
      "Iter 12800, Minibatch Loss= 0.536799, Training Accuracy= 0.78125\n",
      "Iter 14080, Minibatch Loss= 0.413129, Training Accuracy= 0.89062\n",
      "Iter 15360, Minibatch Loss= 0.422499, Training Accuracy= 0.82812\n",
      "Iter 16640, Minibatch Loss= 0.684298, Training Accuracy= 0.76562\n",
      "Iter 17920, Minibatch Loss= 0.225341, Training Accuracy= 0.92188\n",
      "Iter 19200, Minibatch Loss= 0.209114, Training Accuracy= 0.96875\n",
      "Iter 20480, Minibatch Loss= 0.352948, Training Accuracy= 0.85938\n",
      "Iter 21760, Minibatch Loss= 0.294727, Training Accuracy= 0.89844\n",
      "Iter 23040, Minibatch Loss= 0.498533, Training Accuracy= 0.87500\n",
      "Iter 24320, Minibatch Loss= 0.394982, Training Accuracy= 0.86719\n",
      "Iter 25600, Minibatch Loss= 0.339654, Training Accuracy= 0.87500\n",
      "Iter 26880, Minibatch Loss= 0.274896, Training Accuracy= 0.92188\n",
      "Iter 28160, Minibatch Loss= 0.208328, Training Accuracy= 0.95312\n",
      "Iter 29440, Minibatch Loss= 0.291149, Training Accuracy= 0.92969\n",
      "Iter 30720, Minibatch Loss= 0.189685, Training Accuracy= 0.92969\n",
      "Iter 32000, Minibatch Loss= 0.187223, Training Accuracy= 0.94531\n",
      "Iter 33280, Minibatch Loss= 0.164188, Training Accuracy= 0.96875\n",
      "Iter 34560, Minibatch Loss= 0.179166, Training Accuracy= 0.95312\n",
      "Iter 35840, Minibatch Loss= 0.169212, Training Accuracy= 0.93750\n",
      "Iter 37120, Minibatch Loss= 0.120204, Training Accuracy= 0.96875\n",
      "Iter 38400, Minibatch Loss= 0.168642, Training Accuracy= 0.94531\n",
      "Iter 39680, Minibatch Loss= 0.193857, Training Accuracy= 0.93750\n",
      "Iter 40960, Minibatch Loss= 0.121338, Training Accuracy= 0.93750\n",
      "Iter 42240, Minibatch Loss= 0.136588, Training Accuracy= 0.95312\n",
      "Iter 43520, Minibatch Loss= 0.145381, Training Accuracy= 0.95312\n",
      "Iter 44800, Minibatch Loss= 0.165888, Training Accuracy= 0.95312\n",
      "Iter 46080, Minibatch Loss= 0.090300, Training Accuracy= 0.96875\n",
      "Iter 47360, Minibatch Loss= 0.236059, Training Accuracy= 0.92188\n",
      "Iter 48640, Minibatch Loss= 0.128032, Training Accuracy= 0.97656\n",
      "Iter 49920, Minibatch Loss= 0.169682, Training Accuracy= 0.93750\n",
      "Iter 51200, Minibatch Loss= 0.120759, Training Accuracy= 0.96094\n",
      "Iter 52480, Minibatch Loss= 0.130712, Training Accuracy= 0.94531\n",
      "Iter 53760, Minibatch Loss= 0.105902, Training Accuracy= 0.95312\n",
      "Iter 55040, Minibatch Loss= 0.100332, Training Accuracy= 0.96875\n",
      "Iter 56320, Minibatch Loss= 0.160392, Training Accuracy= 0.92969\n",
      "Iter 57600, Minibatch Loss= 0.080099, Training Accuracy= 0.97656\n",
      "Iter 58880, Minibatch Loss= 0.154745, Training Accuracy= 0.96094\n",
      "Iter 60160, Minibatch Loss= 0.047258, Training Accuracy= 0.99219\n",
      "Iter 61440, Minibatch Loss= 0.094763, Training Accuracy= 0.96875\n",
      "Iter 62720, Minibatch Loss= 0.073044, Training Accuracy= 0.96875\n",
      "Iter 64000, Minibatch Loss= 0.065022, Training Accuracy= 0.99219\n",
      "Iter 65280, Minibatch Loss= 0.092937, Training Accuracy= 0.97656\n",
      "Iter 66560, Minibatch Loss= 0.108188, Training Accuracy= 0.96875\n",
      "Iter 67840, Minibatch Loss= 0.054569, Training Accuracy= 0.98438\n",
      "Iter 69120, Minibatch Loss= 0.151934, Training Accuracy= 0.94531\n",
      "Iter 70400, Minibatch Loss= 0.176803, Training Accuracy= 0.96094\n",
      "Iter 71680, Minibatch Loss= 0.079728, Training Accuracy= 0.97656\n",
      "Iter 72960, Minibatch Loss= 0.136252, Training Accuracy= 0.94531\n",
      "Iter 74240, Minibatch Loss= 0.069734, Training Accuracy= 0.97656\n",
      "Iter 75520, Minibatch Loss= 0.035944, Training Accuracy= 0.99219\n",
      "Iter 76800, Minibatch Loss= 0.094037, Training Accuracy= 0.96875\n",
      "Iter 78080, Minibatch Loss= 0.109625, Training Accuracy= 0.96875\n",
      "Iter 79360, Minibatch Loss= 0.101782, Training Accuracy= 0.97656\n",
      "Iter 80640, Minibatch Loss= 0.192633, Training Accuracy= 0.96094\n",
      "Iter 81920, Minibatch Loss= 0.150902, Training Accuracy= 0.94531\n",
      "Iter 83200, Minibatch Loss= 0.115145, Training Accuracy= 0.96094\n",
      "Iter 84480, Minibatch Loss= 0.165460, Training Accuracy= 0.95312\n",
      "Iter 85760, Minibatch Loss= 0.135275, Training Accuracy= 0.95312\n",
      "Iter 87040, Minibatch Loss= 0.214218, Training Accuracy= 0.96094\n",
      "Iter 88320, Minibatch Loss= 0.055659, Training Accuracy= 0.98438\n",
      "Iter 89600, Minibatch Loss= 0.092292, Training Accuracy= 0.97656\n",
      "Iter 90880, Minibatch Loss= 0.115615, Training Accuracy= 0.96094\n",
      "Iter 92160, Minibatch Loss= 0.085411, Training Accuracy= 0.96875\n",
      "Iter 93440, Minibatch Loss= 0.115181, Training Accuracy= 0.98438\n",
      "Iter 94720, Minibatch Loss= 0.063559, Training Accuracy= 0.98438\n",
      "Iter 96000, Minibatch Loss= 0.271642, Training Accuracy= 0.92969\n",
      "Iter 97280, Minibatch Loss= 0.120919, Training Accuracy= 0.96094\n",
      "Iter 98560, Minibatch Loss= 0.071386, Training Accuracy= 0.97656\n",
      "Iter 99840, Minibatch Loss= 0.034242, Training Accuracy= 0.99219\n",
      "Finished\n",
      "Testing Accuracy: 0.99\n"
     ]
    }
   ],
   "source": [
    "with tf.Session() as sess:\n",
    "    sess.run(tf.global_variables_initializer())\n",
    "    step = 1\n",
    "    while step * batch_size < training_iters:\n",
    "        batch_x,batch_y = mnist.train.next_batch(batch_size)\n",
    "        batch_x = batch_x.reshape((batch_size,n_steps,n_input))\n",
    "        sess.run(optimizer,feed_dict={x: batch_x, y: batch_y})\n",
    "        if step % display_step == 0:\n",
    "            acc = sess.run(accuracy,feed_dict={x: batch_x, y: batch_y})\n",
    "            loss = sess.run(cost,feed_dict={x: batch_x, y: batch_y})\n",
    "            print (\"Iter \" + str(step*batch_size) + \", Minibatch Loss= \" + \\\n",
    "                  \"{:.6f}\".format(loss) + \", Training Accuracy= \" + \\\n",
    "                  \"{:.5f}\".format(acc))\n",
    "        step += 1\n",
    "    print(\"Finished\")\n",
    "    # 计算准确率 for 128 mnist test images\n",
    "    test_len = 100\n",
    "    test_data = mnist.test.images[:test_len].reshape((-1, n_steps, n_input))\n",
    "    test_label = mnist.test.labels[:test_len]\n",
    "    print (\"Testing Accuracy:\", \\\n",
    "        sess.run(accuracy, feed_dict={x: test_data, y: test_label}))\n"
   ]
  },
  {
   "cell_type": "code",
   "execution_count": null,
   "metadata": {},
   "outputs": [],
   "source": []
  }
 ],
 "metadata": {
  "kernelspec": {
   "display_name": "tensorflow",
   "language": "python",
   "name": "tensorflow"
  },
  "language_info": {
   "codemirror_mode": {
    "name": "ipython",
    "version": 3
   },
   "file_extension": ".py",
   "mimetype": "text/x-python",
   "name": "python",
   "nbconvert_exporter": "python",
   "pygments_lexer": "ipython3",
   "version": "3.6.5"
  }
 },
 "nbformat": 4,
 "nbformat_minor": 2
}
