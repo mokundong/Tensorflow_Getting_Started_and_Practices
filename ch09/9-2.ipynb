{
 "cells": [
  {
   "cell_type": "code",
   "execution_count": 35,
   "metadata": {},
   "outputs": [],
   "source": [
    "import tensorflow as tf\n",
    "import numpy as np"
   ]
  },
  {
   "cell_type": "code",
   "execution_count": 36,
   "metadata": {},
   "outputs": [],
   "source": [
    "tf.reset_default_graph()"
   ]
  },
  {
   "cell_type": "code",
   "execution_count": 37,
   "metadata": {},
   "outputs": [],
   "source": [
    "#输入数据\n",
    "X = np.random.randn(2,4,5)"
   ]
  },
  {
   "cell_type": "code",
   "execution_count": 38,
   "metadata": {},
   "outputs": [],
   "source": [
    "#第二个样本长度为3\n",
    "X[1,1:] = 0\n",
    "seq_lengths = [4,1]"
   ]
  },
  {
   "cell_type": "code",
   "execution_count": 39,
   "metadata": {},
   "outputs": [],
   "source": [
    "#分别建立一个LSTM 和GRU 的cell，比较输出状态\n",
    "cell = tf.contrib.rnn.BasicLSTMCell(num_units=3,state_is_tuple=True)\n",
    "gru = tf.contrib.rnn.GRUCell(3)"
   ]
  },
  {
   "cell_type": "code",
   "execution_count": 40,
   "metadata": {},
   "outputs": [
    {
     "name": "stderr",
     "output_type": "stream",
     "text": [
      "/home/mkd/anaconda3/envs/tensorflow/lib/python3.6/site-packages/tensorflow/python/client/session.py:1711: UserWarning: An interactive session is already active. This can cause out-of-memory errors in some cases. You must explicitly call `InteractiveSession.close()` to release resources held by the other session(s).\n",
      "  warnings.warn('An interactive session is already active. This can '\n"
     ]
    }
   ],
   "source": [
    "#如果没有initial_state，必须指定a dtype\n",
    "outputs,last_states = tf.nn.dynamic_rnn(cell,X,sequence_length=seq_lengths,dtype=tf.float64)\n",
    "gruoutputs,grulast_states = tf.nn.dynamic_rnn(gru,X,sequence_length=seq_lengths,dtype=tf.float64)\n",
    "sess = tf.InteractiveSession()\n",
    "sess.run(tf.global_variables_initializer())\n",
    "result,sta,gruout,grusta = sess.run([outputs,last_states,gruoutputs,grulast_states])\n",
    "sess.close()"
   ]
  },
  {
   "cell_type": "code",
   "execution_count": 41,
   "metadata": {},
   "outputs": [
    {
     "name": "stdout",
     "output_type": "stream",
     "text": [
      "全序列:\n",
      " [[ 0.02058001 -0.02315916 -0.25604274]\n",
      " [-0.00570115 -0.20019696 -0.10043848]\n",
      " [-0.16344654 -0.22001124  0.06003174]\n",
      " [-0.35928287  0.08392175  0.1320911 ]]\n",
      "短序列:\n",
      " [[0.00278191 0.02893197 0.11737706]\n",
      " [0.         0.         0.        ]\n",
      " [0.         0.         0.        ]\n",
      " [0.         0.         0.        ]]\n",
      "LSTM的状态： 2 \n",
      " [[-0.35928287  0.08392175  0.1320911 ]\n",
      " [ 0.00278191  0.02893197  0.11737706]]\n",
      "GRU的短序列：\n",
      " [[-0.03508312 -0.33684871 -0.40246296]\n",
      " [ 0.          0.          0.        ]\n",
      " [ 0.          0.          0.        ]\n",
      " [ 0.          0.          0.        ]]\n",
      "GRU的短序列： 2 \n",
      " [-0.03508312 -0.33684871 -0.40246296]\n"
     ]
    }
   ],
   "source": [
    "print(\"全序列:\\n\",result[0])\n",
    "print(\"短序列:\\n\",result[1])\n",
    "print('LSTM的状态：',len(sta),'\\n',sta[1])\n",
    "print('GRU的短序列：\\n',gruout[1])\n",
    "print('GRU的短序列：',len(grusta),'\\n',grusta[1])"
   ]
  },
  {
   "cell_type": "code",
   "execution_count": 43,
   "metadata": {},
   "outputs": [
    {
     "data": {
      "text/plain": [
       "LSTMStateTuple(c=array([[-0.65942754,  0.11060666,  0.30867179],\n",
       "       [ 0.014333  ,  0.05643109,  0.35662615]]), h=array([[-0.35928287,  0.08392175,  0.1320911 ],\n",
       "       [ 0.00278191,  0.02893197,  0.11737706]]))"
      ]
     },
     "execution_count": 43,
     "metadata": {},
     "output_type": "execute_result"
    }
   ],
   "source": [
    "sta"
   ]
  },
  {
   "cell_type": "code",
   "execution_count": 44,
   "metadata": {},
   "outputs": [
    {
     "data": {
      "text/plain": [
       "array([[ 0.28298832,  0.11345035,  0.16811909],\n",
       "       [-0.03508312, -0.33684871, -0.40246296]])"
      ]
     },
     "execution_count": 44,
     "metadata": {},
     "output_type": "execute_result"
    }
   ],
   "source": [
    "grusta"
   ]
  },
  {
   "cell_type": "code",
   "execution_count": null,
   "metadata": {},
   "outputs": [],
   "source": []
  }
 ],
 "metadata": {
  "kernelspec": {
   "display_name": "tensorflow",
   "language": "python",
   "name": "tensorflow"
  },
  "language_info": {
   "codemirror_mode": {
    "name": "ipython",
    "version": 3
   },
   "file_extension": ".py",
   "mimetype": "text/x-python",
   "name": "python",
   "nbconvert_exporter": "python",
   "pygments_lexer": "ipython3",
   "version": "3.6.5"
  }
 },
 "nbformat": 4,
 "nbformat_minor": 2
}
