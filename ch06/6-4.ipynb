{
 "cells": [
  {
   "cell_type": "code",
   "execution_count": 24,
   "metadata": {},
   "outputs": [
    {
     "name": "stdout",
     "output_type": "stream",
     "text": [
      "Extracting MNIST_data/train-images-idx3-ubyte.gz\n",
      "Extracting MNIST_data/train-labels-idx1-ubyte.gz\n",
      "Extracting MNIST_data/t10k-images-idx3-ubyte.gz\n",
      "Extracting MNIST_data/t10k-labels-idx1-ubyte.gz\n"
     ]
    }
   ],
   "source": [
    "import tensorflow as tf\n",
    "import pylab \n",
    "from tensorflow.examples.tutorials.mnist import input_data\n",
    "mnist = input_data.read_data_sets(\"MNIST_data/\")"
   ]
  },
  {
   "cell_type": "code",
   "execution_count": 33,
   "metadata": {},
   "outputs": [],
   "source": [
    "#定义占位符\n",
    "tf.reset_default_graph()\n",
    "x = tf.placeholder(tf.float32,[None,784]) #28*28=784\n",
    "y = tf.placeholder(tf.int32,[None]) #0~9,None表示输入任意数量的数据"
   ]
  },
  {
   "cell_type": "code",
   "execution_count": 34,
   "metadata": {},
   "outputs": [],
   "source": [
    "#定义变量\n",
    "W = tf.Variable(tf.random_normal([784, 10]))\n",
    "b = tf.Variable(tf.zeros([10]))"
   ]
  },
  {
   "cell_type": "code",
   "execution_count": 35,
   "metadata": {},
   "outputs": [],
   "source": [
    "#maxout网络\n",
    "z = tf.matmul(x,W) + b\n",
    "maxout = tf.reduce_max(z,axis=1,keep_dims=True)"
   ]
  },
  {
   "cell_type": "code",
   "execution_count": 36,
   "metadata": {},
   "outputs": [],
   "source": [
    "#学习参数\n",
    "W2 = tf.Variable(tf.truncated_normal([1,10],stddev=0.1))\n",
    "b2 = tf.Variable(tf.zeros([1]))"
   ]
  },
  {
   "cell_type": "code",
   "execution_count": 37,
   "metadata": {},
   "outputs": [],
   "source": [
    "#构建模型\n",
    "pred = tf.nn.softmax(tf.matmul(maxout,W2) + b2)\n",
    "#损失函数\n",
    "cost = tf.reduce_mean(tf.nn.sparse_softmax_cross_entropy_with_logits(labels=y, logits=z))\n",
    "#学习率\n",
    "learning_rate = 0.04\n",
    "#优化器--这里使用梯度下降\n",
    "optimizer = tf.train.GradientDescentOptimizer(learning_rate).minimize(cost)"
   ]
  },
  {
   "cell_type": "code",
   "execution_count": 38,
   "metadata": {},
   "outputs": [],
   "source": [
    "#模型参数\n",
    "training_epochs = 200\n",
    "batch_size = 100\n",
    "display_step = 1"
   ]
  },
  {
   "cell_type": "code",
   "execution_count": null,
   "metadata": {},
   "outputs": [
    {
     "name": "stdout",
     "output_type": "stream",
     "text": [
      "Epoch:  0001 cost= 4.343943823\n",
      "Epoch:  0002 cost= 1.821793869\n",
      "Epoch:  0003 cost= 1.359239031\n",
      "Epoch:  0004 cost= 1.149108142\n",
      "Epoch:  0005 cost= 1.024622671\n",
      "Epoch:  0006 cost= 0.940654887\n",
      "Epoch:  0007 cost= 0.878132499\n",
      "Epoch:  0008 cost= 0.828836643\n",
      "Epoch:  0009 cost= 0.789582187\n",
      "Epoch:  0010 cost= 0.756593345\n",
      "Epoch:  0011 cost= 0.728206292\n",
      "Epoch:  0012 cost= 0.703536475\n",
      "Epoch:  0013 cost= 0.682398213\n",
      "Epoch:  0014 cost= 0.663295932\n",
      "Epoch:  0015 cost= 0.646069440\n",
      "Epoch:  0016 cost= 0.630624812\n",
      "Epoch:  0017 cost= 0.616717727\n",
      "Epoch:  0018 cost= 0.603798089\n",
      "Epoch:  0019 cost= 0.591980426\n",
      "Epoch:  0020 cost= 0.581153165\n",
      "Epoch:  0021 cost= 0.570801628\n",
      "Epoch:  0022 cost= 0.561532412\n",
      "Epoch:  0023 cost= 0.552678736\n",
      "Epoch:  0024 cost= 0.544488849\n",
      "Epoch:  0025 cost= 0.536656674\n",
      "Epoch:  0026 cost= 0.529400349\n",
      "Epoch:  0027 cost= 0.522417257\n",
      "Epoch:  0028 cost= 0.516070080\n",
      "Epoch:  0029 cost= 0.509710247\n",
      "Epoch:  0030 cost= 0.503932017\n",
      "Epoch:  0031 cost= 0.498195366\n",
      "Epoch:  0032 cost= 0.492804046\n",
      "Epoch:  0033 cost= 0.487816064\n",
      "Epoch:  0034 cost= 0.482842704\n",
      "Epoch:  0035 cost= 0.478179177\n",
      "Epoch:  0036 cost= 0.473675731\n",
      "Epoch:  0037 cost= 0.469435434\n",
      "Epoch:  0038 cost= 0.465279110\n",
      "Epoch:  0039 cost= 0.461309821\n",
      "Epoch:  0040 cost= 0.457565652\n",
      "Epoch:  0041 cost= 0.453892129\n",
      "Epoch:  0042 cost= 0.450272614\n",
      "Epoch:  0043 cost= 0.446887718\n",
      "Epoch:  0044 cost= 0.443460388\n",
      "Epoch:  0045 cost= 0.440367772\n",
      "Epoch:  0046 cost= 0.437220843\n",
      "Epoch:  0047 cost= 0.434315232\n",
      "Epoch:  0048 cost= 0.431308515\n",
      "Epoch:  0049 cost= 0.428418105\n",
      "Epoch:  0050 cost= 0.425608635\n",
      "Epoch:  0051 cost= 0.422956310\n",
      "Epoch:  0052 cost= 0.420320840\n",
      "Epoch:  0053 cost= 0.417796175\n",
      "Epoch:  0054 cost= 0.415234845\n",
      "Epoch:  0055 cost= 0.413118710\n",
      "Epoch:  0056 cost= 0.410698217\n",
      "Epoch:  0057 cost= 0.408270507\n",
      "Epoch:  0058 cost= 0.406177715\n",
      "Epoch:  0059 cost= 0.404205966\n",
      "Epoch:  0060 cost= 0.401949649\n",
      "Epoch:  0061 cost= 0.400012021\n",
      "Epoch:  0062 cost= 0.397922579\n",
      "Epoch:  0063 cost= 0.396083627\n",
      "Epoch:  0064 cost= 0.394116376\n",
      "Epoch:  0065 cost= 0.392035729\n",
      "Epoch:  0066 cost= 0.390412645\n",
      "Epoch:  0067 cost= 0.388371723\n",
      "Epoch:  0068 cost= 0.386772987\n",
      "Epoch:  0069 cost= 0.385009766\n",
      "Epoch:  0070 cost= 0.383304839\n",
      "Epoch:  0071 cost= 0.381708445\n",
      "Epoch:  0072 cost= 0.380186471\n",
      "Epoch:  0073 cost= 0.378732539\n",
      "Epoch:  0074 cost= 0.377022438\n",
      "Epoch:  0075 cost= 0.375502493\n",
      "Epoch:  0076 cost= 0.374002311\n",
      "Epoch:  0077 cost= 0.372542221\n",
      "Epoch:  0078 cost= 0.371216015\n",
      "Epoch:  0079 cost= 0.369738566\n",
      "Epoch:  0080 cost= 0.368470956\n",
      "Epoch:  0081 cost= 0.367034159\n",
      "Epoch:  0082 cost= 0.365657223\n",
      "Epoch:  0083 cost= 0.364458494\n",
      "Epoch:  0084 cost= 0.363094247\n",
      "Epoch:  0085 cost= 0.361892629\n",
      "Epoch:  0086 cost= 0.360751492\n",
      "Epoch:  0087 cost= 0.359583349\n",
      "Epoch:  0088 cost= 0.358242814\n",
      "Epoch:  0089 cost= 0.357353806\n",
      "Epoch:  0090 cost= 0.355956862\n",
      "Epoch:  0091 cost= 0.354869862\n",
      "Epoch:  0092 cost= 0.353768764\n",
      "Epoch:  0093 cost= 0.352697320\n"
     ]
    }
   ],
   "source": [
    "#网络\n",
    "with tf.Session() as sess:\n",
    "    sess.run(tf.global_variables_initializer())\n",
    "    \n",
    "    #循环训练\n",
    "    for epoch in range(training_epochs):\n",
    "        avg_cost = 0.\n",
    "        total_batch = int(mnist.train.num_examples/batch_size)\n",
    "        #遍历数据集\n",
    "        for i in range(total_batch):\n",
    "            batch_xs, batch_ys = mnist.train.next_batch(batch_size)\n",
    "            _, c = sess.run([optimizer,cost], feed_dict = {x:batch_xs,y:batch_ys})\n",
    "            avg_cost += c / total_batch\n",
    "        #打印信息\n",
    "        if (epoch + 1) % display_step == 0:\n",
    "            print (\"Epoch: \",'%04d' % (epoch+1), \"cost=\", \"{:.9f}\".format(avg_cost))\n",
    "    print (\"Finished\")"
   ]
  }
 ],
 "metadata": {
  "kernelspec": {
   "display_name": "Python [Root]",
   "language": "python",
   "name": "Python [Root]"
  },
  "language_info": {
   "codemirror_mode": {
    "name": "ipython",
    "version": 3
   },
   "file_extension": ".py",
   "mimetype": "text/x-python",
   "name": "python",
   "nbconvert_exporter": "python",
   "pygments_lexer": "ipython3",
   "version": "3.5.2"
  }
 },
 "nbformat": 4,
 "nbformat_minor": 2
}
